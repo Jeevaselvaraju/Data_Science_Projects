{
 "cells": [
  {
   "cell_type": "markdown",
   "metadata": {},
   "source": [
    "## First Neural Network using Keras\n"
   ]
  },
  {
   "cell_type": "code",
   "execution_count": 27,
   "metadata": {},
   "outputs": [],
   "source": [
    "import pandas as pd\n",
    "from keras.models import Sequential\n",
    "from keras.layers import Dense"
   ]
  },
  {
   "cell_type": "code",
   "execution_count": 28,
   "metadata": {},
   "outputs": [],
   "source": [
    "##Read the Dataset"
   ]
  },
  {
   "cell_type": "code",
   "execution_count": 29,
   "metadata": {},
   "outputs": [],
   "source": [
    "diabetes = pd.read_csv(\"diabetes.csv\")"
   ]
  },
  {
   "cell_type": "code",
   "execution_count": 30,
   "metadata": {},
   "outputs": [
    {
     "data": {
      "text/plain": [
       "(768, 9)"
      ]
     },
     "execution_count": 30,
     "metadata": {},
     "output_type": "execute_result"
    }
   ],
   "source": [
    "diabetes.shape"
   ]
  },
  {
   "cell_type": "code",
   "execution_count": 31,
   "metadata": {},
   "outputs": [
    {
     "data": {
      "text/html": [
       "<div>\n",
       "<style scoped>\n",
       "    .dataframe tbody tr th:only-of-type {\n",
       "        vertical-align: middle;\n",
       "    }\n",
       "\n",
       "    .dataframe tbody tr th {\n",
       "        vertical-align: top;\n",
       "    }\n",
       "\n",
       "    .dataframe thead th {\n",
       "        text-align: right;\n",
       "    }\n",
       "</style>\n",
       "<table border=\"1\" class=\"dataframe\">\n",
       "  <thead>\n",
       "    <tr style=\"text-align: right;\">\n",
       "      <th></th>\n",
       "      <th>Pregnancies</th>\n",
       "      <th>Glucose</th>\n",
       "      <th>BloodPressure</th>\n",
       "      <th>SkinThickness</th>\n",
       "      <th>Insulin</th>\n",
       "      <th>BMI</th>\n",
       "      <th>DiabetesPedigreeFunction</th>\n",
       "      <th>Age</th>\n",
       "      <th>Outcome</th>\n",
       "    </tr>\n",
       "  </thead>\n",
       "  <tbody>\n",
       "    <tr>\n",
       "      <th>0</th>\n",
       "      <td>6</td>\n",
       "      <td>148</td>\n",
       "      <td>72</td>\n",
       "      <td>35</td>\n",
       "      <td>0</td>\n",
       "      <td>33.6</td>\n",
       "      <td>0.627</td>\n",
       "      <td>50</td>\n",
       "      <td>1</td>\n",
       "    </tr>\n",
       "    <tr>\n",
       "      <th>1</th>\n",
       "      <td>1</td>\n",
       "      <td>85</td>\n",
       "      <td>66</td>\n",
       "      <td>29</td>\n",
       "      <td>0</td>\n",
       "      <td>26.6</td>\n",
       "      <td>0.351</td>\n",
       "      <td>31</td>\n",
       "      <td>0</td>\n",
       "    </tr>\n",
       "    <tr>\n",
       "      <th>2</th>\n",
       "      <td>8</td>\n",
       "      <td>183</td>\n",
       "      <td>64</td>\n",
       "      <td>0</td>\n",
       "      <td>0</td>\n",
       "      <td>23.3</td>\n",
       "      <td>0.672</td>\n",
       "      <td>32</td>\n",
       "      <td>1</td>\n",
       "    </tr>\n",
       "    <tr>\n",
       "      <th>3</th>\n",
       "      <td>1</td>\n",
       "      <td>89</td>\n",
       "      <td>66</td>\n",
       "      <td>23</td>\n",
       "      <td>94</td>\n",
       "      <td>28.1</td>\n",
       "      <td>0.167</td>\n",
       "      <td>21</td>\n",
       "      <td>0</td>\n",
       "    </tr>\n",
       "    <tr>\n",
       "      <th>4</th>\n",
       "      <td>0</td>\n",
       "      <td>137</td>\n",
       "      <td>40</td>\n",
       "      <td>35</td>\n",
       "      <td>168</td>\n",
       "      <td>43.1</td>\n",
       "      <td>2.288</td>\n",
       "      <td>33</td>\n",
       "      <td>1</td>\n",
       "    </tr>\n",
       "  </tbody>\n",
       "</table>\n",
       "</div>"
      ],
      "text/plain": [
       "   Pregnancies  Glucose  BloodPressure  SkinThickness  Insulin   BMI  \\\n",
       "0            6      148             72             35        0  33.6   \n",
       "1            1       85             66             29        0  26.6   \n",
       "2            8      183             64              0        0  23.3   \n",
       "3            1       89             66             23       94  28.1   \n",
       "4            0      137             40             35      168  43.1   \n",
       "\n",
       "   DiabetesPedigreeFunction  Age  Outcome  \n",
       "0                     0.627   50        1  \n",
       "1                     0.351   31        0  \n",
       "2                     0.672   32        1  \n",
       "3                     0.167   21        0  \n",
       "4                     2.288   33        1  "
      ]
     },
     "execution_count": 31,
     "metadata": {},
     "output_type": "execute_result"
    }
   ],
   "source": [
    "diabetes.head()"
   ]
  },
  {
   "cell_type": "code",
   "execution_count": 32,
   "metadata": {},
   "outputs": [
    {
     "data": {
      "text/plain": [
       "Pregnancies                 0\n",
       "Glucose                     0\n",
       "BloodPressure               0\n",
       "SkinThickness               0\n",
       "Insulin                     0\n",
       "BMI                         0\n",
       "DiabetesPedigreeFunction    0\n",
       "Age                         0\n",
       "Outcome                     0\n",
       "dtype: int64"
      ]
     },
     "execution_count": 32,
     "metadata": {},
     "output_type": "execute_result"
    }
   ],
   "source": [
    "diabetes.isnull().sum(axis =0)\n"
   ]
  },
  {
   "cell_type": "code",
   "execution_count": 33,
   "metadata": {},
   "outputs": [],
   "source": [
    "X = diabetes.iloc[:,0:-1]\n",
    "Y = diabetes.iloc[:,-1]"
   ]
  },
  {
   "cell_type": "code",
   "execution_count": 34,
   "metadata": {},
   "outputs": [
    {
     "data": {
      "text/html": [
       "<div>\n",
       "<style scoped>\n",
       "    .dataframe tbody tr th:only-of-type {\n",
       "        vertical-align: middle;\n",
       "    }\n",
       "\n",
       "    .dataframe tbody tr th {\n",
       "        vertical-align: top;\n",
       "    }\n",
       "\n",
       "    .dataframe thead th {\n",
       "        text-align: right;\n",
       "    }\n",
       "</style>\n",
       "<table border=\"1\" class=\"dataframe\">\n",
       "  <thead>\n",
       "    <tr style=\"text-align: right;\">\n",
       "      <th></th>\n",
       "      <th>Pregnancies</th>\n",
       "      <th>Glucose</th>\n",
       "      <th>BloodPressure</th>\n",
       "      <th>SkinThickness</th>\n",
       "      <th>Insulin</th>\n",
       "      <th>BMI</th>\n",
       "      <th>DiabetesPedigreeFunction</th>\n",
       "      <th>Age</th>\n",
       "    </tr>\n",
       "  </thead>\n",
       "  <tbody>\n",
       "    <tr>\n",
       "      <th>0</th>\n",
       "      <td>6</td>\n",
       "      <td>148</td>\n",
       "      <td>72</td>\n",
       "      <td>35</td>\n",
       "      <td>0</td>\n",
       "      <td>33.6</td>\n",
       "      <td>0.627</td>\n",
       "      <td>50</td>\n",
       "    </tr>\n",
       "    <tr>\n",
       "      <th>1</th>\n",
       "      <td>1</td>\n",
       "      <td>85</td>\n",
       "      <td>66</td>\n",
       "      <td>29</td>\n",
       "      <td>0</td>\n",
       "      <td>26.6</td>\n",
       "      <td>0.351</td>\n",
       "      <td>31</td>\n",
       "    </tr>\n",
       "    <tr>\n",
       "      <th>2</th>\n",
       "      <td>8</td>\n",
       "      <td>183</td>\n",
       "      <td>64</td>\n",
       "      <td>0</td>\n",
       "      <td>0</td>\n",
       "      <td>23.3</td>\n",
       "      <td>0.672</td>\n",
       "      <td>32</td>\n",
       "    </tr>\n",
       "    <tr>\n",
       "      <th>3</th>\n",
       "      <td>1</td>\n",
       "      <td>89</td>\n",
       "      <td>66</td>\n",
       "      <td>23</td>\n",
       "      <td>94</td>\n",
       "      <td>28.1</td>\n",
       "      <td>0.167</td>\n",
       "      <td>21</td>\n",
       "    </tr>\n",
       "    <tr>\n",
       "      <th>4</th>\n",
       "      <td>0</td>\n",
       "      <td>137</td>\n",
       "      <td>40</td>\n",
       "      <td>35</td>\n",
       "      <td>168</td>\n",
       "      <td>43.1</td>\n",
       "      <td>2.288</td>\n",
       "      <td>33</td>\n",
       "    </tr>\n",
       "  </tbody>\n",
       "</table>\n",
       "</div>"
      ],
      "text/plain": [
       "   Pregnancies  Glucose  BloodPressure  SkinThickness  Insulin   BMI  \\\n",
       "0            6      148             72             35        0  33.6   \n",
       "1            1       85             66             29        0  26.6   \n",
       "2            8      183             64              0        0  23.3   \n",
       "3            1       89             66             23       94  28.1   \n",
       "4            0      137             40             35      168  43.1   \n",
       "\n",
       "   DiabetesPedigreeFunction  Age  \n",
       "0                     0.627   50  \n",
       "1                     0.351   31  \n",
       "2                     0.672   32  \n",
       "3                     0.167   21  \n",
       "4                     2.288   33  "
      ]
     },
     "execution_count": 34,
     "metadata": {},
     "output_type": "execute_result"
    }
   ],
   "source": [
    "X.head()"
   ]
  },
  {
   "cell_type": "code",
   "execution_count": 35,
   "metadata": {},
   "outputs": [
    {
     "data": {
      "text/plain": [
       "0    1\n",
       "1    0\n",
       "2    1\n",
       "3    0\n",
       "4    1\n",
       "Name: Outcome, dtype: int64"
      ]
     },
     "execution_count": 35,
     "metadata": {},
     "output_type": "execute_result"
    }
   ],
   "source": [
    "Y.head()"
   ]
  },
  {
   "cell_type": "code",
   "execution_count": 36,
   "metadata": {},
   "outputs": [],
   "source": [
    "#Split the rows"
   ]
  },
  {
   "cell_type": "code",
   "execution_count": 37,
   "metadata": {},
   "outputs": [],
   "source": [
    "from sklearn.model_selection import train_test_split"
   ]
  },
  {
   "cell_type": "code",
   "execution_count": 38,
   "metadata": {},
   "outputs": [],
   "source": [
    "X_train, X_test, Y_train, Y_test = \\\n",
    "train_test_split(X, Y, test_size = 0.2, random_state=1234, stratify = Y)"
   ]
  },
  {
   "cell_type": "code",
   "execution_count": 39,
   "metadata": {},
   "outputs": [],
   "source": [
    "#Define the Keras Model"
   ]
  },
  {
   "cell_type": "code",
   "execution_count": 40,
   "metadata": {},
   "outputs": [],
   "source": [
    "model = Sequential()"
   ]
  },
  {
   "cell_type": "code",
   "execution_count": 42,
   "metadata": {},
   "outputs": [],
   "source": [
    "model.add(Dense(24,\n",
    "                input_shape=(8,),\n",
    "                activation = 'relu',\n",
    "                kernel_initializer= 'RandomNormal'))\n",
    "\n",
    "\n",
    "model.add(Dense(12,\n",
    "               activation = 'relu',\n",
    "               kernel_initializer= 'RandomNormal'))\n",
    "\n",
    "\n",
    "model.add(Dense(1,\n",
    "               activation = 'sigmoid',\n",
    "               kernel_initializer= 'RandomNormal'))"
   ]
  },
  {
   "cell_type": "code",
   "execution_count": 43,
   "metadata": {},
   "outputs": [],
   "source": [
    "#Compile the model"
   ]
  },
  {
   "cell_type": "code",
   "execution_count": 46,
   "metadata": {},
   "outputs": [],
   "source": [
    "model.compile(optimizer='adam',\n",
    "            loss = 'binary_crossentropy',\n",
    "             metrics=['accuracy'] )"
   ]
  },
  {
   "cell_type": "code",
   "execution_count": 47,
   "metadata": {},
   "outputs": [],
   "source": [
    "#Run the model"
   ]
  },
  {
   "cell_type": "code",
   "execution_count": 49,
   "metadata": {},
   "outputs": [
    {
     "name": "stdout",
     "output_type": "stream",
     "text": [
      "Epoch 1/160\n",
      "614/614 [==============================] - 2s 3ms/step - loss: 0.6754 - accuracy: 0.6515\n",
      "Epoch 2/160\n",
      "614/614 [==============================] - 0s 135us/step - loss: 0.6552 - accuracy: 0.6515\n",
      "Epoch 3/160\n",
      "614/614 [==============================] - 0s 146us/step - loss: 0.6557 - accuracy: 0.6515\n",
      "Epoch 4/160\n",
      "614/614 [==============================] - 0s 135us/step - loss: 0.6450 - accuracy: 0.6515\n",
      "Epoch 5/160\n",
      "614/614 [==============================] - 0s 140us/step - loss: 0.6294 - accuracy: 0.6629\n",
      "Epoch 6/160\n",
      "614/614 [==============================] - 0s 148us/step - loss: 0.6190 - accuracy: 0.6629\n",
      "Epoch 7/160\n",
      "614/614 [==============================] - 0s 138us/step - loss: 0.6146 - accuracy: 0.6694\n",
      "Epoch 8/160\n",
      "614/614 [==============================] - 0s 145us/step - loss: 0.6027 - accuracy: 0.6873\n",
      "Epoch 9/160\n",
      "614/614 [==============================] - 0s 143us/step - loss: 0.5944 - accuracy: 0.6612\n",
      "Epoch 10/160\n",
      "614/614 [==============================] - 0s 146us/step - loss: 0.5948 - accuracy: 0.6792\n",
      "Epoch 11/160\n",
      "614/614 [==============================] - 0s 133us/step - loss: 0.6041 - accuracy: 0.6840\n",
      "Epoch 12/160\n",
      "614/614 [==============================] - 0s 143us/step - loss: 0.5841 - accuracy: 0.6954\n",
      "Epoch 13/160\n",
      "614/614 [==============================] - 0s 138us/step - loss: 0.5819 - accuracy: 0.6824\n",
      "Epoch 14/160\n",
      "614/614 [==============================] - 0s 142us/step - loss: 0.5744 - accuracy: 0.6971\n",
      "Epoch 15/160\n",
      "614/614 [==============================] - 0s 145us/step - loss: 0.5777 - accuracy: 0.7134\n",
      "Epoch 16/160\n",
      "614/614 [==============================] - 0s 142us/step - loss: 0.5748 - accuracy: 0.7003\n",
      "Epoch 17/160\n",
      "614/614 [==============================] - 0s 142us/step - loss: 0.5652 - accuracy: 0.7199\n",
      "Epoch 18/160\n",
      "614/614 [==============================] - 0s 148us/step - loss: 0.5639 - accuracy: 0.7020\n",
      "Epoch 19/160\n",
      "614/614 [==============================] - 0s 140us/step - loss: 0.5637 - accuracy: 0.7003\n",
      "Epoch 20/160\n",
      "614/614 [==============================] - 0s 156us/step - loss: 0.5644 - accuracy: 0.7248\n",
      "Epoch 21/160\n",
      "614/614 [==============================] - 0s 146us/step - loss: 0.5568 - accuracy: 0.7345\n",
      "Epoch 22/160\n",
      "614/614 [==============================] - 0s 153us/step - loss: 0.5589 - accuracy: 0.7003\n",
      "Epoch 23/160\n",
      "614/614 [==============================] - 0s 146us/step - loss: 0.5530 - accuracy: 0.7068\n",
      "Epoch 24/160\n",
      "614/614 [==============================] - 0s 143us/step - loss: 0.5586 - accuracy: 0.7231\n",
      "Epoch 25/160\n",
      "614/614 [==============================] - 0s 145us/step - loss: 0.5537 - accuracy: 0.7296\n",
      "Epoch 26/160\n",
      "614/614 [==============================] - 0s 143us/step - loss: 0.5536 - accuracy: 0.7166\n",
      "Epoch 27/160\n",
      "614/614 [==============================] - 0s 146us/step - loss: 0.5502 - accuracy: 0.7134\n",
      "Epoch 28/160\n",
      "614/614 [==============================] - 0s 148us/step - loss: 0.5540 - accuracy: 0.7215\n",
      "Epoch 29/160\n",
      "614/614 [==============================] - 0s 143us/step - loss: 0.5452 - accuracy: 0.7329\n",
      "Epoch 30/160\n",
      "614/614 [==============================] - 0s 146us/step - loss: 0.5441 - accuracy: 0.7248\n",
      "Epoch 31/160\n",
      "614/614 [==============================] - 0s 151us/step - loss: 0.5443 - accuracy: 0.7329\n",
      "Epoch 32/160\n",
      "614/614 [==============================] - 0s 163us/step - loss: 0.5451 - accuracy: 0.7264\n",
      "Epoch 33/160\n",
      "614/614 [==============================] - 0s 155us/step - loss: 0.5441 - accuracy: 0.7280\n",
      "Epoch 34/160\n",
      "614/614 [==============================] - 0s 146us/step - loss: 0.5420 - accuracy: 0.7378\n",
      "Epoch 35/160\n",
      "614/614 [==============================] - 0s 155us/step - loss: 0.5370 - accuracy: 0.7248\n",
      "Epoch 36/160\n",
      "614/614 [==============================] - 0s 143us/step - loss: 0.5366 - accuracy: 0.7362\n",
      "Epoch 37/160\n",
      "614/614 [==============================] - 0s 145us/step - loss: 0.5335 - accuracy: 0.7394\n",
      "Epoch 38/160\n",
      "614/614 [==============================] - 0s 148us/step - loss: 0.5360 - accuracy: 0.7264\n",
      "Epoch 39/160\n",
      "614/614 [==============================] - 0s 153us/step - loss: 0.5312 - accuracy: 0.7443\n",
      "Epoch 40/160\n",
      "614/614 [==============================] - 0s 148us/step - loss: 0.5328 - accuracy: 0.7313\n",
      "Epoch 41/160\n",
      "614/614 [==============================] - 0s 148us/step - loss: 0.5322 - accuracy: 0.7296\n",
      "Epoch 42/160\n",
      "614/614 [==============================] - 0s 146us/step - loss: 0.5288 - accuracy: 0.7394\n",
      "Epoch 43/160\n",
      "614/614 [==============================] - 0s 148us/step - loss: 0.5241 - accuracy: 0.7573\n",
      "Epoch 44/160\n",
      "614/614 [==============================] - 0s 148us/step - loss: 0.5237 - accuracy: 0.7427\n",
      "Epoch 45/160\n",
      "614/614 [==============================] - 0s 155us/step - loss: 0.5268 - accuracy: 0.7443\n",
      "Epoch 46/160\n",
      "614/614 [==============================] - 0s 151us/step - loss: 0.5253 - accuracy: 0.7443\n",
      "Epoch 47/160\n",
      "614/614 [==============================] - 0s 150us/step - loss: 0.5206 - accuracy: 0.7410\n",
      "Epoch 48/160\n",
      "614/614 [==============================] - 0s 143us/step - loss: 0.5230 - accuracy: 0.7410\n",
      "Epoch 49/160\n",
      "614/614 [==============================] - 0s 142us/step - loss: 0.5200 - accuracy: 0.7573\n",
      "Epoch 50/160\n",
      "614/614 [==============================] - 0s 146us/step - loss: 0.5176 - accuracy: 0.7508\n",
      "Epoch 51/160\n",
      "614/614 [==============================] - 0s 156us/step - loss: 0.5177 - accuracy: 0.7590\n",
      "Epoch 52/160\n",
      "614/614 [==============================] - 0s 163us/step - loss: 0.5234 - accuracy: 0.7492\n",
      "Epoch 53/160\n",
      "614/614 [==============================] - 0s 146us/step - loss: 0.5198 - accuracy: 0.7394\n",
      "Epoch 54/160\n",
      "614/614 [==============================] - 0s 145us/step - loss: 0.5134 - accuracy: 0.7524\n",
      "Epoch 55/160\n",
      "614/614 [==============================] - 0s 153us/step - loss: 0.5157 - accuracy: 0.7573\n",
      "Epoch 56/160\n",
      "614/614 [==============================] - 0s 150us/step - loss: 0.5135 - accuracy: 0.7606\n",
      "Epoch 57/160\n",
      "614/614 [==============================] - 0s 148us/step - loss: 0.5174 - accuracy: 0.7573\n",
      "Epoch 58/160\n",
      "614/614 [==============================] - 0s 138us/step - loss: 0.5065 - accuracy: 0.7541\n",
      "Epoch 59/160\n",
      "614/614 [==============================] - 0s 146us/step - loss: 0.5110 - accuracy: 0.7573\n",
      "Epoch 60/160\n",
      "614/614 [==============================] - 0s 153us/step - loss: 0.5138 - accuracy: 0.75080s - loss: 0.5121 - accuracy: 0.76\n",
      "Epoch 61/160\n",
      "614/614 [==============================] - 0s 164us/step - loss: 0.5086 - accuracy: 0.7541\n",
      "Epoch 62/160\n",
      "614/614 [==============================] - 0s 148us/step - loss: 0.5080 - accuracy: 0.7524\n",
      "Epoch 63/160\n",
      "614/614 [==============================] - 0s 176us/step - loss: 0.5136 - accuracy: 0.7541\n",
      "Epoch 64/160\n",
      "614/614 [==============================] - 0s 164us/step - loss: 0.5184 - accuracy: 0.7508\n",
      "Epoch 65/160\n",
      "614/614 [==============================] - 0s 148us/step - loss: 0.5009 - accuracy: 0.7541\n",
      "Epoch 66/160\n",
      "614/614 [==============================] - 0s 145us/step - loss: 0.5055 - accuracy: 0.7606\n",
      "Epoch 67/160\n",
      "614/614 [==============================] - 0s 158us/step - loss: 0.4951 - accuracy: 0.7606\n",
      "Epoch 68/160\n",
      "614/614 [==============================] - 0s 161us/step - loss: 0.5002 - accuracy: 0.7557\n",
      "Epoch 69/160\n",
      "614/614 [==============================] - 0s 150us/step - loss: 0.5029 - accuracy: 0.7443\n",
      "Epoch 70/160\n",
      "614/614 [==============================] - 0s 155us/step - loss: 0.4944 - accuracy: 0.7606\n",
      "Epoch 71/160\n",
      "614/614 [==============================] - 0s 164us/step - loss: 0.5023 - accuracy: 0.7622\n",
      "Epoch 72/160\n",
      "614/614 [==============================] - 0s 153us/step - loss: 0.4958 - accuracy: 0.7704\n",
      "Epoch 73/160\n",
      "614/614 [==============================] - 0s 140us/step - loss: 0.4941 - accuracy: 0.7720\n",
      "Epoch 74/160\n",
      "614/614 [==============================] - 0s 148us/step - loss: 0.4975 - accuracy: 0.7671\n",
      "Epoch 75/160\n",
      "614/614 [==============================] - 0s 138us/step - loss: 0.4938 - accuracy: 0.7622\n",
      "Epoch 76/160\n",
      "614/614 [==============================] - 0s 148us/step - loss: 0.4902 - accuracy: 0.7671\n",
      "Epoch 77/160\n",
      "614/614 [==============================] - 0s 151us/step - loss: 0.4880 - accuracy: 0.7655\n",
      "Epoch 78/160\n",
      "614/614 [==============================] - 0s 145us/step - loss: 0.4944 - accuracy: 0.7590\n",
      "Epoch 79/160\n"
     ]
    },
    {
     "name": "stdout",
     "output_type": "stream",
     "text": [
      "614/614 [==============================] - 0s 146us/step - loss: 0.4870 - accuracy: 0.7557\n",
      "Epoch 80/160\n",
      "614/614 [==============================] - 0s 125us/step - loss: 0.4874 - accuracy: 0.7671\n",
      "Epoch 81/160\n",
      "614/614 [==============================] - 0s 129us/step - loss: 0.4909 - accuracy: 0.7704\n",
      "Epoch 82/160\n",
      "614/614 [==============================] - 0s 127us/step - loss: 0.4834 - accuracy: 0.7736\n",
      "Epoch 83/160\n",
      "614/614 [==============================] - 0s 130us/step - loss: 0.5002 - accuracy: 0.7508\n",
      "Epoch 84/160\n",
      "614/614 [==============================] - 0s 130us/step - loss: 0.4836 - accuracy: 0.7671\n",
      "Epoch 85/160\n",
      "614/614 [==============================] - 0s 130us/step - loss: 0.4960 - accuracy: 0.7590\n",
      "Epoch 86/160\n",
      "614/614 [==============================] - 0s 135us/step - loss: 0.4952 - accuracy: 0.7541\n",
      "Epoch 87/160\n",
      "614/614 [==============================] - 0s 132us/step - loss: 0.4835 - accuracy: 0.7687\n",
      "Epoch 88/160\n",
      "614/614 [==============================] - 0s 130us/step - loss: 0.4941 - accuracy: 0.7818\n",
      "Epoch 89/160\n",
      "614/614 [==============================] - 0s 133us/step - loss: 0.4868 - accuracy: 0.7606\n",
      "Epoch 90/160\n",
      "614/614 [==============================] - 0s 129us/step - loss: 0.4839 - accuracy: 0.7671\n",
      "Epoch 91/160\n",
      "614/614 [==============================] - 0s 130us/step - loss: 0.4740 - accuracy: 0.7801\n",
      "Epoch 92/160\n",
      "614/614 [==============================] - 0s 130us/step - loss: 0.4772 - accuracy: 0.7736\n",
      "Epoch 93/160\n",
      "614/614 [==============================] - 0s 156us/step - loss: 0.4705 - accuracy: 0.7850\n",
      "Epoch 94/160\n",
      "614/614 [==============================] - 0s 132us/step - loss: 0.4722 - accuracy: 0.7932\n",
      "Epoch 95/160\n",
      "614/614 [==============================] - 0s 125us/step - loss: 0.4726 - accuracy: 0.7736\n",
      "Epoch 96/160\n",
      "614/614 [==============================] - 0s 130us/step - loss: 0.4880 - accuracy: 0.7573\n",
      "Epoch 97/160\n",
      "614/614 [==============================] - 0s 130us/step - loss: 0.4793 - accuracy: 0.7801\n",
      "Epoch 98/160\n",
      "614/614 [==============================] - 0s 137us/step - loss: 0.4697 - accuracy: 0.7801\n",
      "Epoch 99/160\n",
      "614/614 [==============================] - 0s 155us/step - loss: 0.4882 - accuracy: 0.7541\n",
      "Epoch 100/160\n",
      "614/614 [==============================] - 0s 155us/step - loss: 0.4710 - accuracy: 0.7769\n",
      "Epoch 101/160\n",
      "614/614 [==============================] - 0s 143us/step - loss: 0.4644 - accuracy: 0.7834\n",
      "Epoch 102/160\n",
      "614/614 [==============================] - 0s 137us/step - loss: 0.4761 - accuracy: 0.7866\n",
      "Epoch 103/160\n",
      "614/614 [==============================] - 0s 138us/step - loss: 0.4607 - accuracy: 0.7850\n",
      "Epoch 104/160\n",
      "614/614 [==============================] - 0s 137us/step - loss: 0.4628 - accuracy: 0.7752\n",
      "Epoch 105/160\n",
      "614/614 [==============================] - 0s 133us/step - loss: 0.4639 - accuracy: 0.7801\n",
      "Epoch 106/160\n",
      "614/614 [==============================] - 0s 129us/step - loss: 0.4565 - accuracy: 0.7883\n",
      "Epoch 107/160\n",
      "614/614 [==============================] - 0s 127us/step - loss: 0.4599 - accuracy: 0.7850\n",
      "Epoch 108/160\n",
      "614/614 [==============================] - 0s 132us/step - loss: 0.4631 - accuracy: 0.7801\n",
      "Epoch 109/160\n",
      "614/614 [==============================] - 0s 129us/step - loss: 0.4573 - accuracy: 0.7915\n",
      "Epoch 110/160\n",
      "614/614 [==============================] - 0s 129us/step - loss: 0.4586 - accuracy: 0.7866\n",
      "Epoch 111/160\n",
      "614/614 [==============================] - 0s 143us/step - loss: 0.4584 - accuracy: 0.7752\n",
      "Epoch 112/160\n",
      "614/614 [==============================] - 0s 140us/step - loss: 0.4496 - accuracy: 0.7704\n",
      "Epoch 113/160\n",
      "614/614 [==============================] - 0s 129us/step - loss: 0.4488 - accuracy: 0.7948\n",
      "Epoch 114/160\n",
      "614/614 [==============================] - 0s 132us/step - loss: 0.4652 - accuracy: 0.7883\n",
      "Epoch 115/160\n",
      "614/614 [==============================] - 0s 133us/step - loss: 0.4618 - accuracy: 0.7704\n",
      "Epoch 116/160\n",
      "614/614 [==============================] - 0s 127us/step - loss: 0.4590 - accuracy: 0.7704\n",
      "Epoch 117/160\n",
      "614/614 [==============================] - 0s 122us/step - loss: 0.4456 - accuracy: 0.8029\n",
      "Epoch 118/160\n",
      "614/614 [==============================] - 0s 135us/step - loss: 0.4558 - accuracy: 0.7752\n",
      "Epoch 119/160\n",
      "614/614 [==============================] - 0s 133us/step - loss: 0.4399 - accuracy: 0.7948\n",
      "Epoch 120/160\n",
      "614/614 [==============================] - 0s 127us/step - loss: 0.4399 - accuracy: 0.7818\n",
      "Epoch 121/160\n",
      "614/614 [==============================] - 0s 135us/step - loss: 0.4427 - accuracy: 0.7801\n",
      "Epoch 122/160\n",
      "614/614 [==============================] - 0s 137us/step - loss: 0.4502 - accuracy: 0.7964\n",
      "Epoch 123/160\n",
      "614/614 [==============================] - 0s 130us/step - loss: 0.4448 - accuracy: 0.7801\n",
      "Epoch 124/160\n",
      "614/614 [==============================] - 0s 135us/step - loss: 0.4440 - accuracy: 0.7866\n",
      "Epoch 125/160\n",
      "614/614 [==============================] - 0s 132us/step - loss: 0.4374 - accuracy: 0.7932\n",
      "Epoch 126/160\n",
      "614/614 [==============================] - 0s 127us/step - loss: 0.4518 - accuracy: 0.7866\n",
      "Epoch 127/160\n",
      "614/614 [==============================] - 0s 125us/step - loss: 0.4415 - accuracy: 0.7883\n",
      "Epoch 128/160\n",
      "614/614 [==============================] - 0s 130us/step - loss: 0.4445 - accuracy: 0.7801\n",
      "Epoch 129/160\n",
      "614/614 [==============================] - 0s 133us/step - loss: 0.4326 - accuracy: 0.7964\n",
      "Epoch 130/160\n",
      "614/614 [==============================] - 0s 130us/step - loss: 0.4343 - accuracy: 0.7964\n",
      "Epoch 131/160\n",
      "614/614 [==============================] - 0s 133us/step - loss: 0.4501 - accuracy: 0.7818\n",
      "Epoch 132/160\n",
      "614/614 [==============================] - 0s 133us/step - loss: 0.4297 - accuracy: 0.7997\n",
      "Epoch 133/160\n",
      "614/614 [==============================] - 0s 132us/step - loss: 0.4392 - accuracy: 0.7834\n",
      "Epoch 134/160\n",
      "614/614 [==============================] - 0s 137us/step - loss: 0.4298 - accuracy: 0.7899\n",
      "Epoch 135/160\n",
      "614/614 [==============================] - 0s 137us/step - loss: 0.4240 - accuracy: 0.7980\n",
      "Epoch 136/160\n",
      "614/614 [==============================] - 0s 124us/step - loss: 0.4386 - accuracy: 0.8029\n",
      "Epoch 137/160\n",
      "614/614 [==============================] - 0s 135us/step - loss: 0.4355 - accuracy: 0.8046\n",
      "Epoch 138/160\n",
      "614/614 [==============================] - 0s 129us/step - loss: 0.4246 - accuracy: 0.8094\n",
      "Epoch 139/160\n",
      "614/614 [==============================] - 0s 132us/step - loss: 0.4322 - accuracy: 0.8062\n",
      "Epoch 140/160\n",
      "614/614 [==============================] - 0s 130us/step - loss: 0.4315 - accuracy: 0.8029\n",
      "Epoch 141/160\n",
      "614/614 [==============================] - 0s 133us/step - loss: 0.4301 - accuracy: 0.8029\n",
      "Epoch 142/160\n",
      "614/614 [==============================] - 0s 129us/step - loss: 0.4300 - accuracy: 0.7997\n",
      "Epoch 143/160\n",
      "614/614 [==============================] - 0s 138us/step - loss: 0.4200 - accuracy: 0.8029\n",
      "Epoch 144/160\n",
      "614/614 [==============================] - 0s 137us/step - loss: 0.4192 - accuracy: 0.8013\n",
      "Epoch 145/160\n",
      "614/614 [==============================] - 0s 143us/step - loss: 0.4200 - accuracy: 0.8029\n",
      "Epoch 146/160\n",
      "614/614 [==============================] - 0s 140us/step - loss: 0.4254 - accuracy: 0.7980\n",
      "Epoch 147/160\n",
      "614/614 [==============================] - 0s 150us/step - loss: 0.4179 - accuracy: 0.8029\n",
      "Epoch 148/160\n",
      "614/614 [==============================] - 0s 142us/step - loss: 0.4101 - accuracy: 0.8160\n",
      "Epoch 149/160\n",
      "614/614 [==============================] - 0s 140us/step - loss: 0.4173 - accuracy: 0.8127\n",
      "Epoch 150/160\n",
      "614/614 [==============================] - 0s 143us/step - loss: 0.4156 - accuracy: 0.8062\n",
      "Epoch 151/160\n",
      "614/614 [==============================] - 0s 143us/step - loss: 0.4111 - accuracy: 0.8225\n",
      "Epoch 152/160\n",
      "614/614 [==============================] - 0s 145us/step - loss: 0.4165 - accuracy: 0.8013\n",
      "Epoch 153/160\n",
      "614/614 [==============================] - 0s 145us/step - loss: 0.4226 - accuracy: 0.7997\n",
      "Epoch 154/160\n",
      "614/614 [==============================] - 0s 138us/step - loss: 0.4153 - accuracy: 0.8013\n",
      "Epoch 155/160\n",
      "614/614 [==============================] - 0s 137us/step - loss: 0.4237 - accuracy: 0.7932\n",
      "Epoch 156/160\n",
      "614/614 [==============================] - 0s 145us/step - loss: 0.4049 - accuracy: 0.8127\n",
      "Epoch 157/160\n"
     ]
    },
    {
     "name": "stdout",
     "output_type": "stream",
     "text": [
      "614/614 [==============================] - 0s 135us/step - loss: 0.4225 - accuracy: 0.7932\n",
      "Epoch 158/160\n",
      "614/614 [==============================] - 0s 132us/step - loss: 0.4050 - accuracy: 0.7980\n",
      "Epoch 159/160\n",
      "614/614 [==============================] - 0s 137us/step - loss: 0.4044 - accuracy: 0.8111\n",
      "Epoch 160/160\n",
      "614/614 [==============================] - 0s 135us/step - loss: 0.4010 - accuracy: 0.8160\n"
     ]
    },
    {
     "data": {
      "text/plain": [
       "<keras.callbacks.callbacks.History at 0x23de2db5188>"
      ]
     },
     "execution_count": 49,
     "metadata": {},
     "output_type": "execute_result"
    }
   ],
   "source": [
    "model.fit(X_train, Y_train, epochs=160, batch_size = 10)"
   ]
  },
  {
   "cell_type": "code",
   "execution_count": 50,
   "metadata": {},
   "outputs": [],
   "source": [
    "#Get the accuracy score to evaluate the result"
   ]
  },
  {
   "cell_type": "code",
   "execution_count": 52,
   "metadata": {},
   "outputs": [
    {
     "name": "stdout",
     "output_type": "stream",
     "text": [
      "154/154 [==============================] - 0s 45us/step\n"
     ]
    }
   ],
   "source": [
    "accuracy_test = model.evaluate(X_test, Y_test)"
   ]
  },
  {
   "cell_type": "code",
   "execution_count": 53,
   "metadata": {},
   "outputs": [
    {
     "data": {
      "text/plain": [
       "[0.5544472669626211, 0.7272727489471436]"
      ]
     },
     "execution_count": 53,
     "metadata": {},
     "output_type": "execute_result"
    }
   ],
   "source": [
    "accuracy_test"
   ]
  },
  {
   "cell_type": "code",
   "execution_count": 54,
   "metadata": {},
   "outputs": [],
   "source": [
    "#Get the predicted values  and predicted of Y_test"
   ]
  },
  {
   "cell_type": "code",
   "execution_count": 55,
   "metadata": {},
   "outputs": [],
   "source": [
    "Y_predict = model.predict_classes(X_test)\n",
    "\n",
    "Y_pred_prob = model.predict(X_test)\n",
    "\n"
   ]
  },
  {
   "cell_type": "code",
   "execution_count": 56,
   "metadata": {},
   "outputs": [],
   "source": [
    "#Build confusion matrix"
   ]
  },
  {
   "cell_type": "code",
   "execution_count": 57,
   "metadata": {},
   "outputs": [],
   "source": [
    "from sklearn.metrics import confusion_matrix"
   ]
  },
  {
   "cell_type": "code",
   "execution_count": 58,
   "metadata": {},
   "outputs": [],
   "source": [
    "cm = confusion_matrix(Y_test, Y_predict)"
   ]
  },
  {
   "cell_type": "code",
   "execution_count": 59,
   "metadata": {},
   "outputs": [
    {
     "data": {
      "text/plain": [
       "array([[79, 21],\n",
       "       [21, 33]], dtype=int64)"
      ]
     },
     "execution_count": 59,
     "metadata": {},
     "output_type": "execute_result"
    }
   ],
   "source": [
    "cm"
   ]
  },
  {
   "cell_type": "code",
   "execution_count": null,
   "metadata": {},
   "outputs": [],
   "source": []
  }
 ],
 "metadata": {
  "kernelspec": {
   "display_name": "Python 3",
   "language": "python",
   "name": "python3"
  },
  "language_info": {
   "codemirror_mode": {
    "name": "ipython",
    "version": 3
   },
   "file_extension": ".py",
   "mimetype": "text/x-python",
   "name": "python",
   "nbconvert_exporter": "python",
   "pygments_lexer": "ipython3",
   "version": "3.7.9"
  }
 },
 "nbformat": 4,
 "nbformat_minor": 4
}
