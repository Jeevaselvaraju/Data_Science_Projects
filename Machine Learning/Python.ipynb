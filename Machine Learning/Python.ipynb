{
 "cells": [
  {
   "cell_type": "code",
   "execution_count": 1,
   "metadata": {},
   "outputs": [
    {
     "name": "stdout",
     "output_type": "stream",
     "text": [
      "Hello World\n"
     ]
    }
   ],
   "source": [
    "print(\"Hello World\")"
   ]
  },
  {
   "cell_type": "code",
   "execution_count": 2,
   "metadata": {},
   "outputs": [
    {
     "name": "stdout",
     "output_type": "stream",
     "text": [
      "Declined\n"
     ]
    }
   ],
   "source": [
    "Salary = 6000\n",
    "\n",
    "if Salary > 6000:\n",
    "    print(\"Approved\")\n",
    "else:\n",
    "    print(\"Declined\")"
   ]
  },
  {
   "cell_type": "code",
   "execution_count": 3,
   "metadata": {},
   "outputs": [
    {
     "name": "stdout",
     "output_type": "stream",
     "text": [
      "Approved\n"
     ]
    }
   ],
   "source": [
    "Salray = 4000\n",
    "if (Salary > 4000):\n",
    "    print(\"Approved\")\n",
    "else:\n",
    "    print(\"Declined\")"
   ]
  },
  {
   "cell_type": "code",
   "execution_count": 9,
   "metadata": {},
   "outputs": [
    {
     "name": "stdout",
     "output_type": "stream",
     "text": [
      "0\n",
      "2\n",
      "4\n",
      "6\n",
      "8\n"
     ]
    }
   ],
   "source": [
    "i = 0\n",
    "\n",
    "while i <10:\n",
    "    print(i)\n",
    "    i+=2"
   ]
  },
  {
   "cell_type": "code",
   "execution_count": 15,
   "metadata": {},
   "outputs": [
    {
     "name": "stdout",
     "output_type": "stream",
     "text": [
      "0\n",
      "2\n",
      "4\n",
      "6\n",
      "8\n"
     ]
    }
   ],
   "source": [
    "var1 = True\n",
    "i=0\n",
    "while var1:\n",
    "    print(i)\n",
    "    i +=2\n",
    "    if i>=10:\n",
    "        var1 = False"
   ]
  },
  {
   "cell_type": "code",
   "execution_count": 17,
   "metadata": {},
   "outputs": [
    {
     "name": "stdout",
     "output_type": "stream",
     "text": [
      "J\n",
      "e\n",
      "e\n",
      "v\n",
      "a\n",
      " \n",
      "S\n",
      "e\n",
      "l\n",
      "v\n",
      "a\n",
      "r\n",
      "a\n",
      "j\n",
      "u\n"
     ]
    }
   ],
   "source": [
    "name = \"Jeeva Selvaraju\"\n",
    "for jee in name:\n",
    "    print(jee)"
   ]
  },
  {
   "cell_type": "code",
   "execution_count": 26,
   "metadata": {},
   "outputs": [
    {
     "name": "stdout",
     "output_type": "stream",
     "text": [
      "0\n",
      "2\n",
      "4\n",
      "6\n",
      "8\n",
      "\n",
      "Outside For Loop 8\n"
     ]
    }
   ],
   "source": [
    "for i in range(0,10,2):\n",
    "    print(i)\n",
    "else:\n",
    "    print(\"\\nOutside For Loop\",str(i))"
   ]
  },
  {
   "cell_type": "code",
   "execution_count": 27,
   "metadata": {},
   "outputs": [
    {
     "name": "stdout",
     "output_type": "stream",
     "text": [
      "['jee', 'vaa', 'selva', 'raju']\n"
     ]
    }
   ],
   "source": [
    "list1 = [\"jee\",\"vaa\",\"selva\",\"raju\"]\n",
    "print(list1)"
   ]
  },
  {
   "cell_type": "code",
   "execution_count": 35,
   "metadata": {},
   "outputs": [
    {
     "data": {
      "text/plain": [
       "'vaa'"
      ]
     },
     "execution_count": 35,
     "metadata": {},
     "output_type": "execute_result"
    }
   ],
   "source": [
    "list1[1]"
   ]
  },
  {
   "cell_type": "code",
   "execution_count": 36,
   "metadata": {},
   "outputs": [],
   "source": [
    "list1.append(\"praveen\")"
   ]
  },
  {
   "cell_type": "code",
   "execution_count": 37,
   "metadata": {},
   "outputs": [
    {
     "name": "stdout",
     "output_type": "stream",
     "text": [
      "['jee', 'vaa', 'selva', 'raju', 'praveen', 'praveen', 'praveen']\n"
     ]
    }
   ],
   "source": [
    "print(list1)"
   ]
  },
  {
   "cell_type": "code",
   "execution_count": 38,
   "metadata": {},
   "outputs": [
    {
     "data": {
      "text/plain": [
       "['jee', 'vaa', 'selva', 'raju', 'praveen', 'praveen', 'praveen']"
      ]
     },
     "execution_count": 38,
     "metadata": {},
     "output_type": "execute_result"
    }
   ],
   "source": [
    "list1"
   ]
  },
  {
   "cell_type": "code",
   "execution_count": 39,
   "metadata": {},
   "outputs": [],
   "source": [
    "list1[4] = \"cukoo\""
   ]
  },
  {
   "cell_type": "code",
   "execution_count": 40,
   "metadata": {},
   "outputs": [
    {
     "data": {
      "text/plain": [
       "['jee', 'vaa', 'selva', 'raju', 'cukoo', 'praveen', 'praveen']"
      ]
     },
     "execution_count": 40,
     "metadata": {},
     "output_type": "execute_result"
    }
   ],
   "source": [
    "list1"
   ]
  },
  {
   "cell_type": "code",
   "execution_count": 41,
   "metadata": {},
   "outputs": [],
   "source": [
    "del list1[6]"
   ]
  },
  {
   "cell_type": "code",
   "execution_count": 42,
   "metadata": {},
   "outputs": [
    {
     "data": {
      "text/plain": [
       "['jee', 'vaa', 'selva', 'raju', 'cukoo', 'praveen']"
      ]
     },
     "execution_count": 42,
     "metadata": {},
     "output_type": "execute_result"
    }
   ],
   "source": [
    "list1"
   ]
  },
  {
   "cell_type": "code",
   "execution_count": 48,
   "metadata": {},
   "outputs": [
    {
     "data": {
      "text/plain": [
       "6"
      ]
     },
     "execution_count": 48,
     "metadata": {},
     "output_type": "execute_result"
    }
   ],
   "source": [
    "len(list1)"
   ]
  },
  {
   "cell_type": "code",
   "execution_count": 49,
   "metadata": {},
   "outputs": [],
   "source": [
    "list2 = [1,2,3,4,5,6]"
   ]
  },
  {
   "cell_type": "code",
   "execution_count": 50,
   "metadata": {},
   "outputs": [],
   "source": [
    "concat = list1 + list2"
   ]
  },
  {
   "cell_type": "code",
   "execution_count": 51,
   "metadata": {},
   "outputs": [
    {
     "data": {
      "text/plain": [
       "['jee', 'vaa', 'selva', 'raju', 'cukoo', 'praveen', 1, 2, 3, 4, 5, 6]"
      ]
     },
     "execution_count": 51,
     "metadata": {},
     "output_type": "execute_result"
    }
   ],
   "source": [
    "concat"
   ]
  },
  {
   "cell_type": "code",
   "execution_count": 52,
   "metadata": {},
   "outputs": [],
   "source": [
    "twodlist1 = [[\"abc\",\"def\",\"ghi\"],[1,2,3]]"
   ]
  },
  {
   "cell_type": "code",
   "execution_count": 54,
   "metadata": {},
   "outputs": [
    {
     "data": {
      "text/plain": [
       "[['abc', 'def', 'ghi'], [1, 2, 3]]"
      ]
     },
     "execution_count": 54,
     "metadata": {},
     "output_type": "execute_result"
    }
   ],
   "source": [
    "twodlist1"
   ]
  },
  {
   "cell_type": "code",
   "execution_count": 55,
   "metadata": {},
   "outputs": [
    {
     "data": {
      "text/plain": [
       "[1, 2, 3]"
      ]
     },
     "execution_count": 55,
     "metadata": {},
     "output_type": "execute_result"
    }
   ],
   "source": [
    "twodlist1[1]"
   ]
  },
  {
   "cell_type": "code",
   "execution_count": 58,
   "metadata": {},
   "outputs": [
    {
     "data": {
      "text/plain": [
       "'def'"
      ]
     },
     "execution_count": 58,
     "metadata": {},
     "output_type": "execute_result"
    }
   ],
   "source": [
    "twodlist1[0][1]"
   ]
  },
  {
   "cell_type": "code",
   "execution_count": 60,
   "metadata": {},
   "outputs": [
    {
     "data": {
      "text/plain": [
       "3"
      ]
     },
     "execution_count": 60,
     "metadata": {},
     "output_type": "execute_result"
    }
   ],
   "source": [
    "twodlist1[1][2]"
   ]
  },
  {
   "cell_type": "code",
   "execution_count": 61,
   "metadata": {},
   "outputs": [],
   "source": [
    "list1.sort()"
   ]
  },
  {
   "cell_type": "code",
   "execution_count": 62,
   "metadata": {},
   "outputs": [
    {
     "data": {
      "text/plain": [
       "['cukoo', 'jee', 'praveen', 'raju', 'selva', 'vaa']"
      ]
     },
     "execution_count": 62,
     "metadata": {},
     "output_type": "execute_result"
    }
   ],
   "source": [
    "list1"
   ]
  },
  {
   "cell_type": "code",
   "execution_count": 63,
   "metadata": {},
   "outputs": [],
   "source": [
    "AddDict = {'street': 'Pogalur','state':'Tamilnadu','country':'India'}"
   ]
  },
  {
   "cell_type": "code",
   "execution_count": 64,
   "metadata": {},
   "outputs": [
    {
     "data": {
      "text/plain": [
       "{'street': 'Pogalur', 'state': 'Tamilnadu', 'country': 'India'}"
      ]
     },
     "execution_count": 64,
     "metadata": {},
     "output_type": "execute_result"
    }
   ],
   "source": [
    "AddDict"
   ]
  },
  {
   "cell_type": "code",
   "execution_count": 68,
   "metadata": {},
   "outputs": [
    {
     "name": "stdout",
     "output_type": "stream",
     "text": [
      "Pogalur\n"
     ]
    }
   ],
   "source": [
    "print(AddDict['street'])"
   ]
  },
  {
   "cell_type": "code",
   "execution_count": 69,
   "metadata": {},
   "outputs": [],
   "source": [
    "AddDict[\"street\"] = 'Annur'"
   ]
  },
  {
   "cell_type": "code",
   "execution_count": 70,
   "metadata": {},
   "outputs": [
    {
     "data": {
      "text/plain": [
       "{'street': 'Annur', 'state': 'Tamilnadu', 'country': 'India'}"
      ]
     },
     "execution_count": 70,
     "metadata": {},
     "output_type": "execute_result"
    }
   ],
   "source": [
    "AddDict"
   ]
  },
  {
   "cell_type": "code",
   "execution_count": 71,
   "metadata": {},
   "outputs": [],
   "source": [
    "AddDict[\"ZipCode\"] = '641653'"
   ]
  },
  {
   "cell_type": "code",
   "execution_count": 72,
   "metadata": {},
   "outputs": [
    {
     "data": {
      "text/plain": [
       "{'street': 'Annur',\n",
       " 'state': 'Tamilnadu',\n",
       " 'country': 'India',\n",
       " 'ZipCode': '641653'}"
      ]
     },
     "execution_count": 72,
     "metadata": {},
     "output_type": "execute_result"
    }
   ],
   "source": [
    "AddDict"
   ]
  },
  {
   "cell_type": "code",
   "execution_count": 73,
   "metadata": {},
   "outputs": [],
   "source": [
    "del AddDict['street']"
   ]
  },
  {
   "cell_type": "code",
   "execution_count": 74,
   "metadata": {},
   "outputs": [
    {
     "data": {
      "text/plain": [
       "{'state': 'Tamilnadu', 'country': 'India', 'ZipCode': '641653'}"
      ]
     },
     "execution_count": 74,
     "metadata": {},
     "output_type": "execute_result"
    }
   ],
   "source": [
    "AddDict"
   ]
  },
  {
   "cell_type": "code",
   "execution_count": 76,
   "metadata": {},
   "outputs": [
    {
     "data": {
      "text/plain": [
       "['Chicago,85,F\\n',\n",
       " 'Chicago,89,F\\n',\n",
       " 'Chicago,70,F\\n',\n",
       " 'Chicago,80,F\\n',\n",
       " 'Chicago,88,F\\n',\n",
       " 'Chicago,72,F\\n',\n",
       " 'Chicago,76,F\\n',\n",
       " 'Chicago,74,F\\n',\n",
       " 'Chicago,70,F\\n',\n",
       " 'San Francisco,61,F\\n',\n",
       " 'San Francisco,52,F\\n',\n",
       " 'San Francisco,65,F\\n',\n",
       " 'San Francisco,57,F\\n',\n",
       " 'San Francisco,51,F\\n',\n",
       " 'San Francisco,61,F\\n',\n",
       " 'San Francisco,55,F\\n',\n",
       " 'London,15,C\\n',\n",
       " 'London,10,C\\n',\n",
       " 'London,18,C\\n',\n",
       " 'London,19,C\\n',\n",
       " 'London,17,C\\n',\n",
       " 'London,18,C\\n',\n",
       " 'London,11,C\\n',\n",
       " 'Delhi,30,C\\n',\n",
       " 'Delhi,23,C\\n',\n",
       " 'Delhi,27,C\\n',\n",
       " 'Delhi,21,C\\n',\n",
       " 'Delhi,29,C\\n',\n",
       " 'Delhi,22,C\\n',\n",
       " 'Delhi,28,C\\n',\n",
       " 'Delhi,20,C\\n',\n",
       " 'Sydney,32,C\\n',\n",
       " 'Sydney,27,C\\n',\n",
       " 'Sydney,82,F\\n',\n",
       " 'Sydney,25,C\\n',\n",
       " 'Sydney,81,F\\n',\n",
       " 'Sydney,76,F\\n',\n",
       " 'Sydney,20,C\\n']"
      ]
     },
     "execution_count": 76,
     "metadata": {},
     "output_type": "execute_result"
    }
   ],
   "source": [
    "citytemp = open('citytemp.csv' , 'r')\n",
    "citytemp.readlines()"
   ]
  },
  {
   "cell_type": "code",
   "execution_count": 88,
   "metadata": {},
   "outputs": [
    {
     "data": {
      "text/plain": [
       "['Chicago,89,F\\n',\n",
       " 'Chicago,70,F\\n',\n",
       " 'Chicago,80,F\\n',\n",
       " 'Chicago,88,F\\n',\n",
       " 'Chicago,72,F\\n',\n",
       " 'Chicago,76,F\\n',\n",
       " 'Chicago,74,F\\n',\n",
       " 'Chicago,70,F\\n',\n",
       " 'San Francisco,61,F\\n',\n",
       " 'San Francisco,52,F\\n',\n",
       " 'San Francisco,65,F\\n',\n",
       " 'San Francisco,57,F\\n',\n",
       " 'San Francisco,51,F\\n',\n",
       " 'San Francisco,61,F\\n',\n",
       " 'San Francisco,55,F\\n',\n",
       " 'London,15,C\\n',\n",
       " 'London,10,C\\n',\n",
       " 'London,18,C\\n',\n",
       " 'London,19,C\\n',\n",
       " 'London,17,C\\n',\n",
       " 'London,18,C\\n',\n",
       " 'London,11,C\\n',\n",
       " 'Delhi,30,C\\n',\n",
       " 'Delhi,23,C\\n',\n",
       " 'Delhi,27,C\\n',\n",
       " 'Delhi,21,C\\n',\n",
       " 'Delhi,29,C\\n',\n",
       " 'Delhi,22,C\\n',\n",
       " 'Delhi,28,C\\n',\n",
       " 'Delhi,20,C\\n',\n",
       " 'Sydney,32,C\\n',\n",
       " 'Sydney,27,C\\n',\n",
       " 'Sydney,82,F\\n',\n",
       " 'Sydney,25,C\\n',\n",
       " 'Sydney,81,F\\n',\n",
       " 'Sydney,76,F\\n',\n",
       " 'Sydney,20,C\\n']"
      ]
     },
     "execution_count": 88,
     "metadata": {},
     "output_type": "execute_result"
    }
   ],
   "source": [
    "citytemp = open('citytemp.csv' , 'r')\n",
    "citywrite = open('citywrite.csv' , 'a')\n",
    "\n",
    "rec1 = citytemp.readline()\n",
    "rec1\n",
    "rec2 = citytemp.readlines()\n",
    "rec2"
   ]
  },
  {
   "cell_type": "code",
   "execution_count": 89,
   "metadata": {},
   "outputs": [],
   "source": [
    "city,temperature,unit = rec1.split(',')"
   ]
  },
  {
   "cell_type": "code",
   "execution_count": 91,
   "metadata": {},
   "outputs": [],
   "source": [
    "temperature = (float(temperature) - 32)* 5/9"
   ]
  },
  {
   "cell_type": "code",
   "execution_count": 92,
   "metadata": {},
   "outputs": [
    {
     "data": {
      "text/plain": [
       "29.444444444444443"
      ]
     },
     "execution_count": 92,
     "metadata": {},
     "output_type": "execute_result"
    }
   ],
   "source": [
    "temperature"
   ]
  },
  {
   "cell_type": "code",
   "execution_count": 93,
   "metadata": {},
   "outputs": [
    {
     "data": {
      "text/plain": [
       "13"
      ]
     },
     "execution_count": 93,
     "metadata": {},
     "output_type": "execute_result"
    }
   ],
   "source": [
    "citywrite.write(rec1)"
   ]
  },
  {
   "cell_type": "code",
   "execution_count": 96,
   "metadata": {},
   "outputs": [
    {
     "name": "stdout",
     "output_type": "stream",
     "text": [
      "<_io.TextIOWrapper name='citywrite.csv' mode='a' encoding='cp1252'>\n"
     ]
    }
   ],
   "source": [
    "print(citywrite)"
   ]
  },
  {
   "cell_type": "code",
   "execution_count": 97,
   "metadata": {},
   "outputs": [],
   "source": [
    "citywrite = open('citywrite.csv', 'r')"
   ]
  },
  {
   "cell_type": "code",
   "execution_count": 99,
   "metadata": {},
   "outputs": [],
   "source": [
    "recc1 = citywrite.readlines()"
   ]
  },
  {
   "cell_type": "code",
   "execution_count": 100,
   "metadata": {},
   "outputs": [
    {
     "data": {
      "text/plain": [
       "[]"
      ]
     },
     "execution_count": 100,
     "metadata": {},
     "output_type": "execute_result"
    }
   ],
   "source": [
    "recc1"
   ]
  },
  {
   "cell_type": "code",
   "execution_count": 101,
   "metadata": {},
   "outputs": [],
   "source": [
    "citywrite.close()"
   ]
  },
  {
   "cell_type": "code",
   "execution_count": 105,
   "metadata": {},
   "outputs": [
    {
     "name": "stdout",
     "output_type": "stream",
     "text": [
      "Chicago,85,F\n",
      "Chicago,89,F\n",
      "Chicago,70,F\n",
      "Chicago,80,F\n",
      "Chicago,88,F\n",
      "Chicago,72,F\n",
      "Chicago,76,F\n",
      "Chicago,74,F\n",
      "Chicago,70,F\n",
      "San Francisco,61,F\n",
      "San Francisco,52,F\n",
      "San Francisco,65,F\n",
      "San Francisco,57,F\n",
      "San Francisco,51,F\n",
      "San Francisco,61,F\n",
      "San Francisco,55,F\n",
      "London,15,C\n",
      "London,10,C\n",
      "London,18,C\n",
      "London,19,C\n",
      "London,17,C\n",
      "London,18,C\n",
      "London,11,C\n",
      "Delhi,30,C\n",
      "Delhi,23,C\n",
      "Delhi,27,C\n",
      "Delhi,21,C\n",
      "Delhi,29,C\n",
      "Delhi,22,C\n",
      "Delhi,28,C\n",
      "Delhi,20,C\n",
      "Sydney,32,C\n",
      "Sydney,27,C\n",
      "Sydney,82,F\n",
      "Sydney,25,C\n",
      "Sydney,81,F\n",
      "Sydney,76,F\n",
      "Sydney,20,C\n"
     ]
    }
   ],
   "source": [
    "citytemp.seek(0)\n",
    "for records in citytemp:\n",
    "    records = records.rstrip(\"\\n\")\n",
    "    print(records)"
   ]
  },
  {
   "cell_type": "code",
   "execution_count": 1,
   "metadata": {},
   "outputs": [],
   "source": [
    "data = [1,2,3,3,4]\n"
   ]
  },
  {
   "cell_type": "code",
   "execution_count": 2,
   "metadata": {},
   "outputs": [],
   "source": [
    "import statistics as st"
   ]
  },
  {
   "cell_type": "code",
   "execution_count": 5,
   "metadata": {},
   "outputs": [
    {
     "name": "stdout",
     "output_type": "stream",
     "text": [
      "2.6\n"
     ]
    }
   ],
   "source": [
    "mean = st.mean(data)\n",
    "print(mean)"
   ]
  },
  {
   "cell_type": "code",
   "execution_count": 7,
   "metadata": {},
   "outputs": [
    {
     "name": "stdout",
     "output_type": "stream",
     "text": [
      "3\n"
     ]
    }
   ],
   "source": [
    "median = st.median(data)\n",
    "print(median)"
   ]
  },
  {
   "cell_type": "code",
   "execution_count": 8,
   "metadata": {},
   "outputs": [
    {
     "name": "stdout",
     "output_type": "stream",
     "text": [
      "3\n"
     ]
    }
   ],
   "source": [
    "mode = st.mode(data)\n",
    "print(mode)"
   ]
  },
  {
   "cell_type": "code",
   "execution_count": 11,
   "metadata": {},
   "outputs": [
    {
     "name": "stdout",
     "output_type": "stream",
     "text": [
      "1.140175425099138\n"
     ]
    }
   ],
   "source": [
    "standard_deviation = st.stdev(data)\n",
    "print(standard_deviation)"
   ]
  },
  {
   "cell_type": "code",
   "execution_count": 16,
   "metadata": {},
   "outputs": [
    {
     "name": "stdout",
     "output_type": "stream",
     "text": [
      "1.3\n"
     ]
    }
   ],
   "source": [
    "variance = st.variance(data)\n",
    "print(variance)"
   ]
  },
  {
   "cell_type": "code",
   "execution_count": 25,
   "metadata": {},
   "outputs": [],
   "source": [
    "import matplotlib.pyplot as plt\n",
    "%matplotlib inline"
   ]
  },
  {
   "cell_type": "code",
   "execution_count": 26,
   "metadata": {},
   "outputs": [],
   "source": [
    "x_days = [1,2,3,4,5]\n",
    "y_price1 = [9,9.5,10.1,10,12]\n",
    "y_price2 = [11,12,10.5,11.5,12.5]"
   ]
  },
  {
   "cell_type": "code",
   "execution_count": 27,
   "metadata": {},
   "outputs": [],
   "source": [
    "#define chart elements"
   ]
  },
  {
   "cell_type": "code",
   "execution_count": 41,
   "metadata": {},
   "outputs": [
    {
     "data": {
      "image/png": "[encoded data removed]",
      "text/plain": [
       "<Figure size 432x288 with 1 Axes>"
      ]
     },
     "metadata": {
      "needs_background": "light"
     },
     "output_type": "display_data"
    }
   ],
   "source": [
    "plt.title('Stock Movement')\n",
    "plt.xlabel('Week Days')\n",
    "plt.ylabel('Price in USD')\n",
    "\n",
    "plt.plot(x_days,y_price1,label = \"Stock1\" )\n",
    "plt.plot(x_days,y_price2,label = \"Stock2\" )\n",
    "\n",
    "plt.legend(loc = 2, fontsize =10)\n",
    "plt.show()"
   ]
  },
  {
   "cell_type": "code",
   "execution_count": 42,
   "metadata": {},
   "outputs": [],
   "source": [
    "# plot a Bar Chart"
   ]
  },
  {
   "cell_type": "code",
   "execution_count": 43,
   "metadata": {},
   "outputs": [],
   "source": [
    "x_cities = ['New York' , 'London' , 'Dubai' , 'New Dehi' , 'Tokyo']\n",
    "y_temp = [75,65,105,98,90]"
   ]
  },
  {
   "cell_type": "code",
   "execution_count": 50,
   "metadata": {},
   "outputs": [
    {
     "data": {
      "image/png": "[encoded data removed]",
      "text/plain": [
       "<Figure size 432x288 with 1 Axes>"
      ]
     },
     "metadata": {
      "needs_background": "light"
     },
     "output_type": "display_data"
    }
   ],
   "source": [
    "plt.title('Temperature Variations')\n",
    "plt.xlabel('cities')\n",
    "plt.ylabel('Temperature')\n",
    "\n",
    "plt.bar(x_cities ,y_temp,label = 'Jeeva')\n",
    "plt.legend(loc = 2 , fontsize = 10)\n",
    "plt.show()"
   ]
  },
  {
   "cell_type": "code",
   "execution_count": 51,
   "metadata": {},
   "outputs": [],
   "source": [
    "#Draw a Histogram"
   ]
  },
  {
   "cell_type": "code",
   "execution_count": 91,
   "metadata": {},
   "outputs": [],
   "source": [
    "import matplotlib.pyplot as plt"
   ]
  },
  {
   "cell_type": "code",
   "execution_count": 92,
   "metadata": {},
   "outputs": [],
   "source": [
    "f = open('agedata.csv' , 'r')"
   ]
  },
  {
   "cell_type": "code",
   "execution_count": 93,
   "metadata": {},
   "outputs": [
    {
     "data": {
      "text/plain": [
       "['4\\n',\n",
       " '4\\n',\n",
       " '5\\n',\n",
       " '23\\n',\n",
       " '45\\n',\n",
       " '12\\n',\n",
       " '15\\n',\n",
       " '21\\n',\n",
       " '27\\n',\n",
       " '27\\n',\n",
       " '12\\n',\n",
       " '31\\n',\n",
       " '38\\n',\n",
       " '14\\n',\n",
       " '18\\n',\n",
       " '26\\n',\n",
       " '21\\n',\n",
       " '31\\n',\n",
       " '34\\n',\n",
       " '34\\n',\n",
       " '39\\n',\n",
       " '31\\n',\n",
       " '23\\n',\n",
       " '41\\n',\n",
       " '39\\n',\n",
       " '34\\n',\n",
       " '43\\n',\n",
       " '23\\n',\n",
       " '44\\n',\n",
       " '45\\n',\n",
       " '32\\n',\n",
       " '47\\n',\n",
       " '49\\n',\n",
       " '42\\n',\n",
       " '54\\n',\n",
       " '56\\n',\n",
       " '58\\n',\n",
       " '59\\n',\n",
       " '42\\n',\n",
       " '76\\n',\n",
       " '71\\n',\n",
       " '41\\n',\n",
       " '49\\n',\n",
       " '54\\n',\n",
       " '55\\n',\n",
       " '48\\n',\n",
       " '52\\n',\n",
       " '61\\n',\n",
       " '53\\n',\n",
       " '59\\n',\n",
       " '62\\n',\n",
       " '71\\n',\n",
       " '68\\n',\n",
       " '67\\n',\n",
       " '63\\n',\n",
       " '78\\n',\n",
       " '72\\n',\n",
       " '81\\n',\n",
       " '92\\n',\n",
       " '83\\n',\n",
       " '87\\n',\n",
       " '62\\n',\n",
       " '68\\n']"
      ]
     },
     "execution_count": 93,
     "metadata": {},
     "output_type": "execute_result"
    }
   ],
   "source": [
    "age_file = f.readlines()\n",
    "age_file"
   ]
  },
  {
   "cell_type": "code",
   "execution_count": 98,
   "metadata": {},
   "outputs": [],
   "source": [
    "age_list = []\n",
    "for records in age_file:\n",
    "    age_list.append(int(records))"
   ]
  },
  {
   "cell_type": "code",
   "execution_count": 100,
   "metadata": {},
   "outputs": [
    {
     "data": {
      "text/plain": [
       "[4,\n",
       " 4,\n",
       " 5,\n",
       " 23,\n",
       " 45,\n",
       " 12,\n",
       " 15,\n",
       " 21,\n",
       " 27,\n",
       " 27,\n",
       " 12,\n",
       " 31,\n",
       " 38,\n",
       " 14,\n",
       " 18,\n",
       " 26,\n",
       " 21,\n",
       " 31,\n",
       " 34,\n",
       " 34,\n",
       " 39,\n",
       " 31,\n",
       " 23,\n",
       " 41,\n",
       " 39,\n",
       " 34,\n",
       " 43,\n",
       " 23,\n",
       " 44,\n",
       " 45,\n",
       " 32,\n",
       " 47,\n",
       " 49,\n",
       " 42,\n",
       " 54,\n",
       " 56,\n",
       " 58,\n",
       " 59,\n",
       " 42,\n",
       " 76,\n",
       " 71,\n",
       " 41,\n",
       " 49,\n",
       " 54,\n",
       " 55,\n",
       " 48,\n",
       " 52,\n",
       " 61,\n",
       " 53,\n",
       " 59,\n",
       " 62,\n",
       " 71,\n",
       " 68,\n",
       " 67,\n",
       " 63,\n",
       " 78,\n",
       " 72,\n",
       " 81,\n",
       " 92,\n",
       " 83,\n",
       " 87,\n",
       " 62,\n",
       " 68]"
      ]
     },
     "execution_count": 100,
     "metadata": {},
     "output_type": "execute_result"
    }
   ],
   "source": [
    "type(age_list)\n",
    "age_list"
   ]
  },
  {
   "cell_type": "code",
   "execution_count": 104,
   "metadata": {},
   "outputs": [],
   "source": [
    "bins = [0,10,20,30,40,50,60,70,80,90,100]"
   ]
  },
  {
   "cell_type": "code",
   "execution_count": 105,
   "metadata": {},
   "outputs": [],
   "source": [
    "#Histogram"
   ]
  },
  {
   "cell_type": "code",
   "execution_count": 111,
   "metadata": {},
   "outputs": [
    {
     "data": {
      "image/png": "[encoded data removed]",
      "text/plain": [
       "<Figure size 432x288 with 1 Axes>"
      ]
     },
     "metadata": {
      "needs_background": "light"
     },
     "output_type": "display_data"
    }
   ],
   "source": [
    "plt.title('Age Histogram')\n",
    "plt.xlabel('Group')\n",
    "plt.ylabel('Age')\n",
    "\n",
    "plt.hist(age_list,bins,histtype= 'bar',rwidth = 0.9)\n",
    "plt.show()"
   ]
  },
  {
   "cell_type": "code",
   "execution_count": 112,
   "metadata": {},
   "outputs": [],
   "source": [
    "#Boxplot\n"
   ]
  },
  {
   "cell_type": "code",
   "execution_count": 113,
   "metadata": {},
   "outputs": [],
   "source": [
    "bx = open('salesdata.csv' , 'r')"
   ]
  },
  {
   "cell_type": "code",
   "execution_count": 114,
   "metadata": {},
   "outputs": [],
   "source": [
    "sales_data = bx.readlines()"
   ]
  },
  {
   "cell_type": "code",
   "execution_count": 115,
   "metadata": {},
   "outputs": [
    {
     "data": {
      "text/plain": [
       "['12\\n',\n",
       " '34\\n',\n",
       " '23\\n',\n",
       " '45\\n',\n",
       " '76\\n',\n",
       " '45\\n',\n",
       " '32\\n',\n",
       " '67\\n',\n",
       " '45\\n',\n",
       " '43\\n',\n",
       " '39\\n',\n",
       " '65\\n',\n",
       " '34\\n',\n",
       " '32\\n',\n",
       " '31\\n',\n",
       " '78\\n',\n",
       " '123\\n',\n",
       " '129\\n',\n",
       " '39\\n',\n",
       " '56\\n',\n",
       " '52\\n']"
      ]
     },
     "execution_count": 115,
     "metadata": {},
     "output_type": "execute_result"
    }
   ],
   "source": [
    "sales_data"
   ]
  },
  {
   "cell_type": "code",
   "execution_count": 116,
   "metadata": {},
   "outputs": [
    {
     "data": {
      "text/plain": [
       "list"
      ]
     },
     "execution_count": 116,
     "metadata": {},
     "output_type": "execute_result"
    }
   ],
   "source": [
    "type(sales_data)"
   ]
  },
  {
   "cell_type": "code",
   "execution_count": 117,
   "metadata": {},
   "outputs": [],
   "source": [
    "sales_list = []"
   ]
  },
  {
   "cell_type": "code",
   "execution_count": 118,
   "metadata": {},
   "outputs": [],
   "source": [
    "for records in sales_data:\n",
    "    sales_list.append(int(records))"
   ]
  },
  {
   "cell_type": "code",
   "execution_count": 120,
   "metadata": {},
   "outputs": [
    {
     "data": {
      "image/png": "[encoded data removed]",
      "text/plain": [
       "<Figure size 432x288 with 1 Axes>"
      ]
     },
     "metadata": {
      "needs_background": "light"
     },
     "output_type": "display_data"
    }
   ],
   "source": [
    "plt.title('Boxplot of Sales')\n",
    "plt.boxplot(sales_list)\n",
    "plt.show()"
   ]
  },
  {
   "cell_type": "code",
   "execution_count": 27,
   "metadata": {},
   "outputs": [],
   "source": [
    "import matplotlib.pyplot as plt\n"
   ]
  },
  {
   "cell_type": "code",
   "execution_count": 29,
   "metadata": {},
   "outputs": [
    {
     "data": {
      "text/plain": [
       "['4,Chicago\\n',\n",
       " '4,Boston\\n',\n",
       " '5,San Diego\\n',\n",
       " '23,Detroit\\n',\n",
       " '45,Seattle\\n',\n",
       " '12,Boston\\n',\n",
       " '15,Chicago\\n',\n",
       " '21,Detroit\\n',\n",
       " '27,Boston\\n',\n",
       " '27,Detroit\\n',\n",
       " '12,Chicago\\n',\n",
       " '31,Boston\\n',\n",
       " '38,Boston\\n',\n",
       " '14,San Diego\\n',\n",
       " '18,Chicago\\n',\n",
       " '26,San Diego\\n',\n",
       " '21,Seattle\\n',\n",
       " '31,Detroit\\n',\n",
       " '34,Seattle\\n',\n",
       " '34,Boston\\n',\n",
       " '39,Seattle\\n',\n",
       " '31,Chicago\\n',\n",
       " '23,Seattle\\n',\n",
       " '41,Detroit\\n',\n",
       " '39,San Diego\\n',\n",
       " '34,Boston\\n',\n",
       " '43,Boston\\n',\n",
       " '23,Seattle\\n',\n",
       " '44,Boston\\n',\n",
       " '45,Detroit\\n',\n",
       " '32,Seattle\\n',\n",
       " '47,San Diego\\n',\n",
       " '49,Boston\\n',\n",
       " '42,Seattle\\n',\n",
       " '54,Chicago\\n',\n",
       " '56,Detroit\\n',\n",
       " '58,San Diego\\n',\n",
       " '59,Boston\\n',\n",
       " '42,Detroit\\n',\n",
       " '76,Seattle\\n',\n",
       " '71,Detroit\\n',\n",
       " '41,Seattle\\n',\n",
       " '49,Detroit\\n',\n",
       " '54,San Diego\\n',\n",
       " '55,Boston\\n',\n",
       " '48,Detroit\\n',\n",
       " '52,Chicago\\n',\n",
       " '61,Detroit\\n',\n",
       " '53,Detroit\\n',\n",
       " '59,Detroit\\n',\n",
       " '62,Detroit\\n',\n",
       " '71,Seattle\\n',\n",
       " '68,Chicago\\n',\n",
       " '67,Chicago\\n',\n",
       " '63,Detroit\\n',\n",
       " '78,Seattle\\n',\n",
       " '72,Boston\\n',\n",
       " '81,Boston\\n',\n",
       " '92,Detroit\\n',\n",
       " '83,Boston\\n',\n",
       " '87,San Diego\\n',\n",
       " '62,Detroit\\n',\n",
       " '68,Boston\\n']"
      ]
     },
     "execution_count": 29,
     "metadata": {},
     "output_type": "execute_result"
    }
   ],
   "source": [
    "age_data2 = open('agedata2.csv' , 'r')\n",
    "\n",
    "age_data2.readlines()"
   ]
  },
  {
   "cell_type": "code",
   "execution_count": null,
   "metadata": {},
   "outputs": [],
   "source": []
  },
  {
   "cell_type": "code",
   "execution_count": 22,
   "metadata": {},
   "outputs": [],
   "source": [
    "city_list2 = []"
   ]
  },
  {
   "cell_type": "code",
   "execution_count": 30,
   "metadata": {},
   "outputs": [],
   "source": [
    "for records in age_data2:\n",
    "    age, city = records.split(sep=',')#split the two functions\n",
    "    city_list2.append(city)"
   ]
  },
  {
   "cell_type": "code",
   "execution_count": 35,
   "metadata": {},
   "outputs": [
    {
     "data": {
      "text/plain": [
       "[]"
      ]
     },
     "execution_count": 35,
     "metadata": {},
     "output_type": "execute_result"
    }
   ],
   "source": [
    "city_list2"
   ]
  },
  {
   "cell_type": "code",
   "execution_count": 36,
   "metadata": {},
   "outputs": [
    {
     "name": "stderr",
     "output_type": "stream",
     "text": [
      "ERROR: Could not find a version that satisfies the requirement collections\n",
      "ERROR: No matching distribution found for collections\n"
     ]
    }
   ],
   "source": [
    "!pip install collections\n"
   ]
  },
  {
   "cell_type": "code",
   "execution_count": 38,
   "metadata": {},
   "outputs": [],
   "source": [
    "city1 = open('agedata2.csv' , 'r')\n",
    "agedata2 = city1.readlines()"
   ]
  },
  {
   "cell_type": "code",
   "execution_count": 39,
   "metadata": {},
   "outputs": [
    {
     "data": {
      "text/plain": [
       "['4,Chicago\\n',\n",
       " '4,Boston\\n',\n",
       " '5,San Diego\\n',\n",
       " '23,Detroit\\n',\n",
       " '45,Seattle\\n',\n",
       " '12,Boston\\n',\n",
       " '15,Chicago\\n',\n",
       " '21,Detroit\\n',\n",
       " '27,Boston\\n',\n",
       " '27,Detroit\\n',\n",
       " '12,Chicago\\n',\n",
       " '31,Boston\\n',\n",
       " '38,Boston\\n',\n",
       " '14,San Diego\\n',\n",
       " '18,Chicago\\n',\n",
       " '26,San Diego\\n',\n",
       " '21,Seattle\\n',\n",
       " '31,Detroit\\n',\n",
       " '34,Seattle\\n',\n",
       " '34,Boston\\n',\n",
       " '39,Seattle\\n',\n",
       " '31,Chicago\\n',\n",
       " '23,Seattle\\n',\n",
       " '41,Detroit\\n',\n",
       " '39,San Diego\\n',\n",
       " '34,Boston\\n',\n",
       " '43,Boston\\n',\n",
       " '23,Seattle\\n',\n",
       " '44,Boston\\n',\n",
       " '45,Detroit\\n',\n",
       " '32,Seattle\\n',\n",
       " '47,San Diego\\n',\n",
       " '49,Boston\\n',\n",
       " '42,Seattle\\n',\n",
       " '54,Chicago\\n',\n",
       " '56,Detroit\\n',\n",
       " '58,San Diego\\n',\n",
       " '59,Boston\\n',\n",
       " '42,Detroit\\n',\n",
       " '76,Seattle\\n',\n",
       " '71,Detroit\\n',\n",
       " '41,Seattle\\n',\n",
       " '49,Detroit\\n',\n",
       " '54,San Diego\\n',\n",
       " '55,Boston\\n',\n",
       " '48,Detroit\\n',\n",
       " '52,Chicago\\n',\n",
       " '61,Detroit\\n',\n",
       " '53,Detroit\\n',\n",
       " '59,Detroit\\n',\n",
       " '62,Detroit\\n',\n",
       " '71,Seattle\\n',\n",
       " '68,Chicago\\n',\n",
       " '67,Chicago\\n',\n",
       " '63,Detroit\\n',\n",
       " '78,Seattle\\n',\n",
       " '72,Boston\\n',\n",
       " '81,Boston\\n',\n",
       " '92,Detroit\\n',\n",
       " '83,Boston\\n',\n",
       " '87,San Diego\\n',\n",
       " '62,Detroit\\n',\n",
       " '68,Boston\\n']"
      ]
     },
     "execution_count": 39,
     "metadata": {},
     "output_type": "execute_result"
    }
   ],
   "source": [
    "agedata2"
   ]
  },
  {
   "cell_type": "code",
   "execution_count": 41,
   "metadata": {},
   "outputs": [],
   "source": [
    "city_data1 = []\n",
    "\n",
    "for records in agedata2:\n",
    "    age, city = records.split(sep=',')\n",
    "    city_data1.append(city)"
   ]
  },
  {
   "cell_type": "code",
   "execution_count": 43,
   "metadata": {},
   "outputs": [
    {
     "data": {
      "text/plain": [
       "['Chicago\\n',\n",
       " 'Boston\\n',\n",
       " 'San Diego\\n',\n",
       " 'Detroit\\n',\n",
       " 'Seattle\\n',\n",
       " 'Boston\\n',\n",
       " 'Chicago\\n',\n",
       " 'Detroit\\n',\n",
       " 'Boston\\n',\n",
       " 'Detroit\\n',\n",
       " 'Chicago\\n',\n",
       " 'Boston\\n',\n",
       " 'Boston\\n',\n",
       " 'San Diego\\n',\n",
       " 'Chicago\\n',\n",
       " 'San Diego\\n',\n",
       " 'Seattle\\n',\n",
       " 'Detroit\\n',\n",
       " 'Seattle\\n',\n",
       " 'Boston\\n',\n",
       " 'Seattle\\n',\n",
       " 'Chicago\\n',\n",
       " 'Seattle\\n',\n",
       " 'Detroit\\n',\n",
       " 'San Diego\\n',\n",
       " 'Boston\\n',\n",
       " 'Boston\\n',\n",
       " 'Seattle\\n',\n",
       " 'Boston\\n',\n",
       " 'Detroit\\n',\n",
       " 'Seattle\\n',\n",
       " 'San Diego\\n',\n",
       " 'Boston\\n',\n",
       " 'Seattle\\n',\n",
       " 'Chicago\\n',\n",
       " 'Detroit\\n',\n",
       " 'San Diego\\n',\n",
       " 'Boston\\n',\n",
       " 'Detroit\\n',\n",
       " 'Seattle\\n',\n",
       " 'Detroit\\n',\n",
       " 'Seattle\\n',\n",
       " 'Detroit\\n',\n",
       " 'San Diego\\n',\n",
       " 'Boston\\n',\n",
       " 'Detroit\\n',\n",
       " 'Chicago\\n',\n",
       " 'Detroit\\n',\n",
       " 'Detroit\\n',\n",
       " 'Detroit\\n',\n",
       " 'Detroit\\n',\n",
       " 'Seattle\\n',\n",
       " 'Chicago\\n',\n",
       " 'Chicago\\n',\n",
       " 'Detroit\\n',\n",
       " 'Seattle\\n',\n",
       " 'Boston\\n',\n",
       " 'Boston\\n',\n",
       " 'Detroit\\n',\n",
       " 'Boston\\n',\n",
       " 'San Diego\\n',\n",
       " 'Detroit\\n',\n",
       " 'Boston\\n']"
      ]
     },
     "execution_count": 43,
     "metadata": {},
     "output_type": "execute_result"
    }
   ],
   "source": [
    "city_data1"
   ]
  },
  {
   "cell_type": "code",
   "execution_count": 46,
   "metadata": {},
   "outputs": [],
   "source": [
    "from collections import Counter"
   ]
  },
  {
   "cell_type": "code",
   "execution_count": 47,
   "metadata": {},
   "outputs": [],
   "source": [
    "city_count = Counter(city_data1)"
   ]
  },
  {
   "cell_type": "code",
   "execution_count": 50,
   "metadata": {},
   "outputs": [
    {
     "data": {
      "text/plain": [
       "Counter({'Chicago\\n': 9,\n",
       "         'Boston\\n': 16,\n",
       "         'San Diego\\n': 8,\n",
       "         'Detroit\\n': 18,\n",
       "         'Seattle\\n': 12})"
      ]
     },
     "execution_count": 50,
     "metadata": {},
     "output_type": "execute_result"
    }
   ],
   "source": [
    "type(city_count)\n",
    "city_count"
   ]
  },
  {
   "cell_type": "code",
   "execution_count": 52,
   "metadata": {},
   "outputs": [],
   "source": [
    "city_name = list(city_count.keys())\n",
    "city_values = list(city_count.values())"
   ]
  },
  {
   "cell_type": "code",
   "execution_count": 56,
   "metadata": {},
   "outputs": [
    {
     "data": {
      "text/plain": [
       "['Chicago\\n', 'Boston\\n', 'San Diego\\n', 'Detroit\\n', 'Seattle\\n']"
      ]
     },
     "execution_count": 56,
     "metadata": {},
     "output_type": "execute_result"
    }
   ],
   "source": [
    "city_name"
   ]
  },
  {
   "cell_type": "code",
   "execution_count": 57,
   "metadata": {},
   "outputs": [
    {
     "data": {
      "text/plain": [
       "[9, 16, 8, 18, 12]"
      ]
     },
     "execution_count": 57,
     "metadata": {},
     "output_type": "execute_result"
    }
   ],
   "source": [
    "city_values"
   ]
  },
  {
   "cell_type": "code",
   "execution_count": 58,
   "metadata": {},
   "outputs": [],
   "source": [
    "#plot pie chart"
   ]
  },
  {
   "cell_type": "code",
   "execution_count": 60,
   "metadata": {},
   "outputs": [
    {
     "data": {
      "image/png": "[encoded data removed]",
      "text/plain": [
       "<Figure size 432x288 with 1 Axes>"
      ]
     },
     "metadata": {},
     "output_type": "display_data"
    }
   ],
   "source": [
    "plt.pie(city_values, labels = city_name, autopct = '%.2f%%')\n",
    "plt.show()"
   ]
  },
  {
   "cell_type": "code",
   "execution_count": 61,
   "metadata": {},
   "outputs": [],
   "source": [
    "scat = open('salesdata2.csv' , 'r')\n",
    "saledata = scat.readlines()"
   ]
  },
  {
   "cell_type": "code",
   "execution_count": 62,
   "metadata": {},
   "outputs": [
    {
     "data": {
      "text/plain": [
       "['12,9\\n',\n",
       " '34,18\\n',\n",
       " '23,24\\n',\n",
       " '45,41\\n',\n",
       " '76,56\\n',\n",
       " '45,21\\n',\n",
       " '32,21\\n',\n",
       " '67,45\\n',\n",
       " '45,32\\n',\n",
       " '43,40\\n',\n",
       " '39,37\\n',\n",
       " '65,61\\n',\n",
       " '34,24\\n',\n",
       " '32,29\\n',\n",
       " '31,24\\n',\n",
       " '78,24\\n',\n",
       " '123,76\\n',\n",
       " '129,79\\n',\n",
       " '39,31\\n',\n",
       " '56,45\\n',\n",
       " '52,43\\n']"
      ]
     },
     "execution_count": 62,
     "metadata": {},
     "output_type": "execute_result"
    }
   ],
   "source": [
    "saledata"
   ]
  },
  {
   "cell_type": "code",
   "execution_count": 63,
   "metadata": {},
   "outputs": [],
   "source": [
    "#create sales data"
   ]
  },
  {
   "cell_type": "code",
   "execution_count": 92,
   "metadata": {},
   "outputs": [],
   "source": [
    "s_list = []\n",
    "c_list = []\n"
   ]
  },
  {
   "cell_type": "code",
   "execution_count": 93,
   "metadata": {},
   "outputs": [],
   "source": [
    "for records in saledata:\n",
    "    sale, cost = records.split(sep =',')\n",
    "                              "
   ]
  },
  {
   "cell_type": "code",
   "execution_count": 104,
   "metadata": {},
   "outputs": [
    {
     "data": {
      "text/plain": [
       "[52, 52]"
      ]
     },
     "execution_count": 104,
     "metadata": {},
     "output_type": "execute_result"
    }
   ],
   "source": [
    "s_list.append(int(sale))\n",
    "s_list"
   ]
  },
  {
   "cell_type": "code",
   "execution_count": 105,
   "metadata": {},
   "outputs": [
    {
     "data": {
      "text/plain": [
       "[43, 43]"
      ]
     },
     "execution_count": 105,
     "metadata": {},
     "output_type": "execute_result"
    }
   ],
   "source": [
    "c_list.append(int(cost))\n",
    "c_list"
   ]
  },
  {
   "cell_type": "code",
   "execution_count": 96,
   "metadata": {},
   "outputs": [],
   "source": [
    "##change the chart tables"
   ]
  },
  {
   "cell_type": "code",
   "execution_count": 103,
   "metadata": {},
   "outputs": [
    {
     "data": {
      "image/png": "[encoded data removed]",
      "text/plain": [
       "<Figure size 432x288 with 1 Axes>"
      ]
     },
     "metadata": {
      "needs_background": "light"
     },
     "output_type": "display_data"
    }
   ],
   "source": [
    "plt.figure('My Scatter Plot')\n",
    "plt.title(\"Sales vs Cost\")\n",
    "plt.xlabel(\"sale\")\n",
    "plt.ylabel(\"cost\")\n",
    "\n",
    "plt.scatter(s_list,c_list)\n",
    "plt.savefig('scat.png')\n",
    "plt.show()"
   ]
  },
  {
   "cell_type": "code",
   "execution_count": null,
   "metadata": {},
   "outputs": [],
   "source": []
  },
  {
   "cell_type": "code",
   "execution_count": null,
   "metadata": {},
   "outputs": [],
   "source": []
  }
 ],
 "metadata": {
  "kernelspec": {
   "display_name": "Python 3",
   "language": "python",
   "name": "python3"
  },
  "language_info": {
   "codemirror_mode": {
    "name": "ipython",
    "version": 3
   },
   "file_extension": ".py",
   "mimetype": "text/x-python",
   "name": "python",
   "nbconvert_exporter": "python",
   "pygments_lexer": "ipython3",
   "version": "3.7.6"
  }
 },
 "nbformat": 4,
 "nbformat_minor": 4
}
