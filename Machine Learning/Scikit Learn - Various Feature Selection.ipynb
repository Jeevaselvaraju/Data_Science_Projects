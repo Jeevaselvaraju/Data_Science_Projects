{
 "cells": [
  {
   "cell_type": "code",
   "execution_count": 1,
   "metadata": {},
   "outputs": [],
   "source": [
    "import pandas as pd"
   ]
  },
  {
   "cell_type": "code",
   "execution_count": 3,
   "metadata": {},
   "outputs": [],
   "source": [
    "f = pd.read_csv('Students2.csv')"
   ]
  },
  {
   "cell_type": "code",
   "execution_count": 4,
   "metadata": {},
   "outputs": [
    {
     "data": {
      "text/html": [
       "<div>\n",
       "<style scoped>\n",
       "    .dataframe tbody tr th:only-of-type {\n",
       "        vertical-align: middle;\n",
       "    }\n",
       "\n",
       "    .dataframe tbody tr th {\n",
       "        vertical-align: top;\n",
       "    }\n",
       "\n",
       "    .dataframe thead th {\n",
       "        text-align: right;\n",
       "    }\n",
       "</style>\n",
       "<table border=\"1\" class=\"dataframe\">\n",
       "  <thead>\n",
       "    <tr style=\"text-align: right;\">\n",
       "      <th></th>\n",
       "      <th>Hours</th>\n",
       "      <th>sHours</th>\n",
       "      <th>hoursplayed</th>\n",
       "      <th>income</th>\n",
       "      <th>distance</th>\n",
       "      <th>calories</th>\n",
       "      <th>Marks</th>\n",
       "    </tr>\n",
       "  </thead>\n",
       "  <tbody>\n",
       "    <tr>\n",
       "      <th>0</th>\n",
       "      <td>0</td>\n",
       "      <td>6</td>\n",
       "      <td>6</td>\n",
       "      <td>146</td>\n",
       "      <td>9</td>\n",
       "      <td>2491</td>\n",
       "      <td>34</td>\n",
       "    </tr>\n",
       "    <tr>\n",
       "      <th>1</th>\n",
       "      <td>1</td>\n",
       "      <td>7</td>\n",
       "      <td>2</td>\n",
       "      <td>112</td>\n",
       "      <td>5</td>\n",
       "      <td>2303</td>\n",
       "      <td>36</td>\n",
       "    </tr>\n",
       "    <tr>\n",
       "      <th>2</th>\n",
       "      <td>1</td>\n",
       "      <td>6</td>\n",
       "      <td>1</td>\n",
       "      <td>84</td>\n",
       "      <td>7</td>\n",
       "      <td>2475</td>\n",
       "      <td>33</td>\n",
       "    </tr>\n",
       "    <tr>\n",
       "      <th>3</th>\n",
       "      <td>1</td>\n",
       "      <td>8</td>\n",
       "      <td>5</td>\n",
       "      <td>134</td>\n",
       "      <td>0</td>\n",
       "      <td>2282</td>\n",
       "      <td>39</td>\n",
       "    </tr>\n",
       "    <tr>\n",
       "      <th>4</th>\n",
       "      <td>1</td>\n",
       "      <td>8</td>\n",
       "      <td>5</td>\n",
       "      <td>104</td>\n",
       "      <td>8</td>\n",
       "      <td>2359</td>\n",
       "      <td>42</td>\n",
       "    </tr>\n",
       "    <tr>\n",
       "      <th>5</th>\n",
       "      <td>2</td>\n",
       "      <td>8</td>\n",
       "      <td>4</td>\n",
       "      <td>80</td>\n",
       "      <td>1</td>\n",
       "      <td>2354</td>\n",
       "      <td>45</td>\n",
       "    </tr>\n",
       "    <tr>\n",
       "      <th>6</th>\n",
       "      <td>2</td>\n",
       "      <td>6</td>\n",
       "      <td>3</td>\n",
       "      <td>93</td>\n",
       "      <td>0</td>\n",
       "      <td>2943</td>\n",
       "      <td>38</td>\n",
       "    </tr>\n",
       "    <tr>\n",
       "      <th>7</th>\n",
       "      <td>3</td>\n",
       "      <td>6</td>\n",
       "      <td>3</td>\n",
       "      <td>83</td>\n",
       "      <td>7</td>\n",
       "      <td>2119</td>\n",
       "      <td>45</td>\n",
       "    </tr>\n",
       "    <tr>\n",
       "      <th>8</th>\n",
       "      <td>3</td>\n",
       "      <td>7</td>\n",
       "      <td>6</td>\n",
       "      <td>139</td>\n",
       "      <td>1</td>\n",
       "      <td>2511</td>\n",
       "      <td>53</td>\n",
       "    </tr>\n",
       "    <tr>\n",
       "      <th>9</th>\n",
       "      <td>3</td>\n",
       "      <td>7</td>\n",
       "      <td>5</td>\n",
       "      <td>138</td>\n",
       "      <td>10</td>\n",
       "      <td>2666</td>\n",
       "      <td>46</td>\n",
       "    </tr>\n",
       "  </tbody>\n",
       "</table>\n",
       "</div>"
      ],
      "text/plain": [
       "   Hours  sHours  hoursplayed  income  distance  calories  Marks\n",
       "0      0       6            6     146         9      2491     34\n",
       "1      1       7            2     112         5      2303     36\n",
       "2      1       6            1      84         7      2475     33\n",
       "3      1       8            5     134         0      2282     39\n",
       "4      1       8            5     104         8      2359     42\n",
       "5      2       8            4      80         1      2354     45\n",
       "6      2       6            3      93         0      2943     38\n",
       "7      3       6            3      83         7      2119     45\n",
       "8      3       7            6     139         1      2511     53\n",
       "9      3       7            5     138        10      2666     46"
      ]
     },
     "execution_count": 4,
     "metadata": {},
     "output_type": "execute_result"
    }
   ],
   "source": [
    "f.head(10)"
   ]
  },
  {
   "cell_type": "code",
   "execution_count": 5,
   "metadata": {},
   "outputs": [],
   "source": [
    "#SPLIT x AND y"
   ]
  },
  {
   "cell_type": "code",
   "execution_count": 6,
   "metadata": {},
   "outputs": [],
   "source": [
    "X = f.iloc[:,:-1]\n",
    "Y = f.iloc[:,-1]"
   ]
  },
  {
   "cell_type": "code",
   "execution_count": 15,
   "metadata": {},
   "outputs": [
    {
     "name": "stdout",
     "output_type": "stream",
     "text": [
      "    Hours  sHours  hoursplayed  income  distance  calories\n",
      "0       0       6            6     146         9      2491\n",
      "1       1       7            2     112         5      2303\n",
      "2       1       6            1      84         7      2475\n",
      "3       1       8            5     134         0      2282\n",
      "4       1       8            5     104         8      2359\n",
      "5       2       8            4      80         1      2354\n",
      "6       2       6            3      93         0      2943\n",
      "7       3       6            3      83         7      2119\n",
      "8       3       7            6     139         1      2511\n",
      "9       3       7            5     138        10      2666\n",
      "10      3       8            5      98         2      2934\n",
      "11      4       8            1      90         0      2838\n",
      "12      4       7            3     140         7      2102\n",
      "13      4       7            6     144         3      2560\n",
      "14      5       8            2     144         5      2068\n",
      "15      5       6            2     119         6      2541\n",
      "16      6       6            1     140         6      2690\n",
      "17      6       7            1      85         3      2956\n",
      "18      7       8            2     140         8      2239\n",
      "19      7       8            6     107         0      2703\n",
      "20      7       6            5      85         7      2603\n",
      "21      7       6            3     109         0      2031\n",
      "22      8       7            5     108         0      2885\n",
      "23      8       8            1     150         8      2153\n",
      "24      9       8            4     150         9      2384\n",
      "25      9       5            5      84        10      2882\n",
      "26      9       8            5     127         5      2271\n",
      "27     10       8            6      95         6      2264\n",
      "28     10       8            5      72         5      2522\n",
      "29     11       7            3      89         3      2279\n",
      "0     34\n",
      "1     36\n",
      "2     33\n",
      "3     39\n",
      "4     42\n",
      "5     45\n",
      "6     38\n",
      "7     45\n",
      "8     53\n",
      "9     46\n",
      "10    56\n",
      "11    59\n",
      "12    55\n",
      "13    56\n",
      "14    72\n",
      "15    59\n",
      "16    62\n",
      "17    71\n",
      "18    78\n",
      "19    88\n",
      "20    61\n",
      "21    74\n",
      "22    71\n",
      "23    89\n",
      "24    82\n",
      "25    67\n",
      "26    89\n",
      "27    81\n",
      "28    82\n",
      "29    79\n",
      "Name: Marks, dtype: int64\n"
     ]
    }
   ],
   "source": [
    "print(X)\n",
    "print(Y)"
   ]
  },
  {
   "cell_type": "code",
   "execution_count": 16,
   "metadata": {},
   "outputs": [
    {
     "name": "stdout",
     "output_type": "stream",
     "text": [
      "(30, 6)\n",
      "(30,)\n"
     ]
    }
   ],
   "source": [
    "print(X.shape)\n",
    "print(Y.shape)"
   ]
  },
  {
   "cell_type": "code",
   "execution_count": 7,
   "metadata": {},
   "outputs": [],
   "source": [
    "#Import vrious select transforms \n",
    "#the f_regression mode"
   ]
  },
  {
   "cell_type": "code",
   "execution_count": 10,
   "metadata": {},
   "outputs": [],
   "source": [
    "from sklearn.feature_selection import SelectKBest,   \\\n",
    "                                      SelectPercentile,  \\\n",
    "                                      GenericUnivariateSelect, \\\n",
    "                                      f_regression\n"
   ]
  },
  {
   "cell_type": "code",
   "execution_count": 13,
   "metadata": {},
   "outputs": [
    {
     "data": {
      "text/plain": [
       "SelectKBest(k=3, score_func=<function f_regression at 0x00000234447BAA68>)"
      ]
     },
     "execution_count": 13,
     "metadata": {},
     "output_type": "execute_result"
    }
   ],
   "source": [
    "selectorK = SelectKBest(score_func=f_regression, k=3)\n",
    "selectorK"
   ]
  },
  {
   "cell_type": "code",
   "execution_count": 14,
   "metadata": {},
   "outputs": [
    {
     "data": {
      "text/plain": [
       "array([[   0,    6, 2491],\n",
       "       [   1,    7, 2303],\n",
       "       [   1,    6, 2475],\n",
       "       [   1,    8, 2282],\n",
       "       [   1,    8, 2359],\n",
       "       [   2,    8, 2354],\n",
       "       [   2,    6, 2943],\n",
       "       [   3,    6, 2119],\n",
       "       [   3,    7, 2511],\n",
       "       [   3,    7, 2666],\n",
       "       [   3,    8, 2934],\n",
       "       [   4,    8, 2838],\n",
       "       [   4,    7, 2102],\n",
       "       [   4,    7, 2560],\n",
       "       [   5,    8, 2068],\n",
       "       [   5,    6, 2541],\n",
       "       [   6,    6, 2690],\n",
       "       [   6,    7, 2956],\n",
       "       [   7,    8, 2239],\n",
       "       [   7,    8, 2703],\n",
       "       [   7,    6, 2603],\n",
       "       [   7,    6, 2031],\n",
       "       [   8,    7, 2885],\n",
       "       [   8,    8, 2153],\n",
       "       [   9,    8, 2384],\n",
       "       [   9,    5, 2882],\n",
       "       [   9,    8, 2271],\n",
       "       [  10,    8, 2264],\n",
       "       [  10,    8, 2522],\n",
       "       [  11,    7, 2279]], dtype=int64)"
      ]
     },
     "execution_count": 14,
     "metadata": {},
     "output_type": "execute_result"
    }
   ],
   "source": [
    "x_k = selectorK.fit_transform(X,Y)\n",
    "x_k"
   ]
  },
  {
   "cell_type": "code",
   "execution_count": 17,
   "metadata": {},
   "outputs": [],
   "source": [
    "#Get f_score and p_values"
   ]
  },
  {
   "cell_type": "code",
   "execution_count": 20,
   "metadata": {},
   "outputs": [],
   "source": [
    "f_score = selectorK.scores_\n",
    "p_values = selectorK.pvalues_"
   ]
  },
  {
   "cell_type": "code",
   "execution_count": 27,
   "metadata": {},
   "outputs": [],
   "source": [
    "columns = list(X.columns)"
   ]
  },
  {
   "cell_type": "code",
   "execution_count": 28,
   "metadata": {},
   "outputs": [
    {
     "name": "stdout",
     "output_type": "stream",
     "text": [
      " \n",
      " \n",
      " \n",
      "   Features        F-Score         P-Values\n",
      "   ---------          -------          ---------\n",
      "      Hours          141.91      0.000000\n",
      "      sHours           4.57      0.041403\n",
      "      hoursplayed      0.00      0.969907\n",
      "      income           0.16      0.692200\n",
      "      distance         0.00      0.955528\n",
      "      calories         0.40      0.530086\n"
     ]
    }
   ],
   "source": [
    "print(\" \")\n",
    "print(\" \")\n",
    "print(\" \")\n",
    "\n",
    "print (\"   Features       \", \"F-Score   \",\"     P-Values\" )\n",
    "print (\"   ---------          -------          ---------\")\n",
    "for i in range (0, len(columns)):\n",
    "    f1 = \"%4.2f\" % f_score[i]\n",
    "    p1 = \"%2.6f\" % p_values[i]\n",
    "    print(\"     \",columns[i].ljust(12), f1.rjust(8),\"    \",p1.rjust(8))"
   ]
  },
  {
   "cell_type": "code",
   "execution_count": 30,
   "metadata": {},
   "outputs": [],
   "source": [
    "cols = selectorK.get_support(indices=True)\n",
    "selected_cols = X.columns[cols].tolist()"
   ]
  },
  {
   "cell_type": "code",
   "execution_count": 31,
   "metadata": {},
   "outputs": [
    {
     "name": "stdout",
     "output_type": "stream",
     "text": [
      "['Hours', 'sHours', 'calories']\n"
     ]
    }
   ],
   "source": [
    "print(selected_cols)"
   ]
  },
  {
   "cell_type": "code",
   "execution_count": 32,
   "metadata": {},
   "outputs": [],
   "source": [
    "#Select Percentile"
   ]
  },
  {
   "cell_type": "code",
   "execution_count": 34,
   "metadata": {},
   "outputs": [
    {
     "data": {
      "text/plain": [
       "array([[   0,    6, 2491],\n",
       "       [   1,    7, 2303],\n",
       "       [   1,    6, 2475],\n",
       "       [   1,    8, 2282],\n",
       "       [   1,    8, 2359],\n",
       "       [   2,    8, 2354],\n",
       "       [   2,    6, 2943],\n",
       "       [   3,    6, 2119],\n",
       "       [   3,    7, 2511],\n",
       "       [   3,    7, 2666],\n",
       "       [   3,    8, 2934],\n",
       "       [   4,    8, 2838],\n",
       "       [   4,    7, 2102],\n",
       "       [   4,    7, 2560],\n",
       "       [   5,    8, 2068],\n",
       "       [   5,    6, 2541],\n",
       "       [   6,    6, 2690],\n",
       "       [   6,    7, 2956],\n",
       "       [   7,    8, 2239],\n",
       "       [   7,    8, 2703],\n",
       "       [   7,    6, 2603],\n",
       "       [   7,    6, 2031],\n",
       "       [   8,    7, 2885],\n",
       "       [   8,    8, 2153],\n",
       "       [   9,    8, 2384],\n",
       "       [   9,    5, 2882],\n",
       "       [   9,    8, 2271],\n",
       "       [  10,    8, 2264],\n",
       "       [  10,    8, 2522],\n",
       "       [  11,    7, 2279]], dtype=int64)"
      ]
     },
     "execution_count": 34,
     "metadata": {},
     "output_type": "execute_result"
    }
   ],
   "source": [
    "selectorP = SelectPercentile(score_func=f_regression,percentile = 50)\n",
    "x_p = selectorP.fit_transform(X,Y)\n",
    "x_p"
   ]
  },
  {
   "cell_type": "code",
   "execution_count": 35,
   "metadata": {},
   "outputs": [],
   "source": [
    "#Implement GenericUnivariateSelect transform"
   ]
  },
  {
   "cell_type": "code",
   "execution_count": 40,
   "metadata": {},
   "outputs": [],
   "source": [
    "selectorG1 = GenericUnivariateSelect(score_func=f_regression,mode='k_best', param=3)\n",
    "X_g1 = selectorG1.fit_transform(X,Y)"
   ]
  },
  {
   "cell_type": "code",
   "execution_count": 43,
   "metadata": {},
   "outputs": [],
   "source": [
    "selectorG2 = GenericUnivariateSelect(score_func=f_regression,mode='percentile', param=50)\n",
    "X_g2 = selectorG2.fit_transform(X,Y)"
   ]
  },
  {
   "cell_type": "code",
   "execution_count": 45,
   "metadata": {},
   "outputs": [
    {
     "name": "stdout",
     "output_type": "stream",
     "text": [
      "[[   0    6 2491]\n",
      " [   1    7 2303]\n",
      " [   1    6 2475]\n",
      " [   1    8 2282]\n",
      " [   1    8 2359]\n",
      " [   2    8 2354]\n",
      " [   2    6 2943]\n",
      " [   3    6 2119]\n",
      " [   3    7 2511]\n",
      " [   3    7 2666]\n",
      " [   3    8 2934]\n",
      " [   4    8 2838]\n",
      " [   4    7 2102]\n",
      " [   4    7 2560]\n",
      " [   5    8 2068]\n",
      " [   5    6 2541]\n",
      " [   6    6 2690]\n",
      " [   6    7 2956]\n",
      " [   7    8 2239]\n",
      " [   7    8 2703]\n",
      " [   7    6 2603]\n",
      " [   7    6 2031]\n",
      " [   8    7 2885]\n",
      " [   8    8 2153]\n",
      " [   9    8 2384]\n",
      " [   9    5 2882]\n",
      " [   9    8 2271]\n",
      " [  10    8 2264]\n",
      " [  10    8 2522]\n",
      " [  11    7 2279]]\n"
     ]
    }
   ],
   "source": [
    "print (X_g1)\n"
   ]
  },
  {
   "cell_type": "code",
   "execution_count": 46,
   "metadata": {},
   "outputs": [
    {
     "name": "stdout",
     "output_type": "stream",
     "text": [
      "[[   0    6 2491]\n",
      " [   1    7 2303]\n",
      " [   1    6 2475]\n",
      " [   1    8 2282]\n",
      " [   1    8 2359]\n",
      " [   2    8 2354]\n",
      " [   2    6 2943]\n",
      " [   3    6 2119]\n",
      " [   3    7 2511]\n",
      " [   3    7 2666]\n",
      " [   3    8 2934]\n",
      " [   4    8 2838]\n",
      " [   4    7 2102]\n",
      " [   4    7 2560]\n",
      " [   5    8 2068]\n",
      " [   5    6 2541]\n",
      " [   6    6 2690]\n",
      " [   6    7 2956]\n",
      " [   7    8 2239]\n",
      " [   7    8 2703]\n",
      " [   7    6 2603]\n",
      " [   7    6 2031]\n",
      " [   8    7 2885]\n",
      " [   8    8 2153]\n",
      " [   9    8 2384]\n",
      " [   9    5 2882]\n",
      " [   9    8 2271]\n",
      " [  10    8 2264]\n",
      " [  10    8 2522]\n",
      " [  11    7 2279]]\n"
     ]
    }
   ],
   "source": [
    "print (X_g2)"
   ]
  },
  {
   "cell_type": "code",
   "execution_count": null,
   "metadata": {},
   "outputs": [],
   "source": []
  }
 ],
 "metadata": {
  "kernelspec": {
   "display_name": "Python 3",
   "language": "python",
   "name": "python3"
  },
  "language_info": {
   "codemirror_mode": {
    "name": "ipython",
    "version": 3
   },
   "file_extension": ".py",
   "mimetype": "text/x-python",
   "name": "python",
   "nbconvert_exporter": "python",
   "pygments_lexer": "ipython3",
   "version": "3.7.6"
  }
 },
 "nbformat": 4,
 "nbformat_minor": 4
}
